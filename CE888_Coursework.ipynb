{
  "nbformat": 4,
  "nbformat_minor": 0,
  "metadata": {
    "colab": {
      "name": "CE888 Coursework.ipynb",
      "provenance": [],
      "collapsed_sections": [],
      "authorship_tag": "ABX9TyNzw6e1H8aw1mvzNHICiujM",
      "include_colab_link": true
    },
    "kernelspec": {
      "display_name": "Python 3",
      "name": "python3"
    },
    "language_info": {
      "name": "python"
    }
  },
  "cells": [
    {
      "cell_type": "markdown",
      "metadata": {
        "id": "view-in-github",
        "colab_type": "text"
      },
      "source": [
        "<a href=\"https://colab.research.google.com/github/olatundeO/CE888/blob/main/CE888_Coursework.ipynb\" target=\"_parent\"><img src=\"https://colab.research.google.com/assets/colab-badge.svg\" alt=\"Open In Colab\"/></a>"
      ]
    },
    {
      "cell_type": "code",
      "metadata": {
        "id": "7zvQgv9T_6lK"
      },
      "source": [
        "import matplotlib.pyplot as plt\n",
        "import pandas as pd\n",
        "import seaborn as sns\n",
        "import numpy as np\n",
        "from matplotlib.ticker import PercentFormatter"
      ],
      "execution_count": 1,
      "outputs": []
    },
    {
      "cell_type": "code",
      "metadata": {
        "id": "QQDd0NblCziS"
      },
      "source": [
        "#this is data on population for city of london for females of all age groups\n",
        "population_data_female = pd.read_excel(\"Ethnic-group projections.xlsx\", sheet_name = 'Population - Females')"
      ],
      "execution_count": 4,
      "outputs": []
    },
    {
      "cell_type": "code",
      "metadata": {
        "colab": {
          "base_uri": "https://localhost:8080/",
          "height": 309
        },
        "id": "4KfaS7CfCzdP",
        "outputId": "f5a5d1ac-4340-4ab9-b53e-68899d32e6fd"
      },
      "source": [
        "population_data_female.head()"
      ],
      "execution_count": 6,
      "outputs": [
        {
          "output_type": "execute_result",
          "data": {
            "text/html": [
              "<div>\n",
              "<style scoped>\n",
              "    .dataframe tbody tr th:only-of-type {\n",
              "        vertical-align: middle;\n",
              "    }\n",
              "\n",
              "    .dataframe tbody tr th {\n",
              "        vertical-align: top;\n",
              "    }\n",
              "\n",
              "    .dataframe thead th {\n",
              "        text-align: right;\n",
              "    }\n",
              "</style>\n",
              "<table border=\"1\" class=\"dataframe\">\n",
              "  <thead>\n",
              "    <tr style=\"text-align: right;\">\n",
              "      <th></th>\n",
              "      <th>gss_code</th>\n",
              "      <th>borough</th>\n",
              "      <th>sex</th>\n",
              "      <th>age</th>\n",
              "      <th>ethnic_group</th>\n",
              "      <th>2011</th>\n",
              "      <th>2012</th>\n",
              "      <th>2013</th>\n",
              "      <th>2014</th>\n",
              "      <th>2015</th>\n",
              "      <th>2016</th>\n",
              "      <th>2017</th>\n",
              "      <th>2018</th>\n",
              "      <th>2019</th>\n",
              "      <th>2020</th>\n",
              "      <th>2021</th>\n",
              "      <th>2022</th>\n",
              "      <th>2023</th>\n",
              "      <th>2024</th>\n",
              "      <th>2025</th>\n",
              "      <th>2026</th>\n",
              "      <th>2027</th>\n",
              "      <th>2028</th>\n",
              "      <th>2029</th>\n",
              "      <th>2030</th>\n",
              "      <th>2031</th>\n",
              "      <th>2032</th>\n",
              "      <th>2033</th>\n",
              "      <th>2034</th>\n",
              "      <th>2035</th>\n",
              "      <th>2036</th>\n",
              "      <th>2037</th>\n",
              "      <th>2038</th>\n",
              "      <th>2039</th>\n",
              "      <th>2040</th>\n",
              "      <th>2041</th>\n",
              "      <th>2042</th>\n",
              "      <th>2043</th>\n",
              "      <th>2044</th>\n",
              "      <th>2045</th>\n",
              "      <th>2046</th>\n",
              "      <th>2047</th>\n",
              "      <th>2048</th>\n",
              "      <th>2049</th>\n",
              "      <th>2050</th>\n",
              "    </tr>\n",
              "  </thead>\n",
              "  <tbody>\n",
              "    <tr>\n",
              "      <th>0</th>\n",
              "      <td>E09000001</td>\n",
              "      <td>City of London</td>\n",
              "      <td>Female</td>\n",
              "      <td>0</td>\n",
              "      <td>All persons</td>\n",
              "      <td>37</td>\n",
              "      <td>44</td>\n",
              "      <td>34</td>\n",
              "      <td>34</td>\n",
              "      <td>33</td>\n",
              "      <td>42</td>\n",
              "      <td>26</td>\n",
              "      <td>27</td>\n",
              "      <td>29</td>\n",
              "      <td>30</td>\n",
              "      <td>30</td>\n",
              "      <td>31</td>\n",
              "      <td>32</td>\n",
              "      <td>32</td>\n",
              "      <td>33</td>\n",
              "      <td>33</td>\n",
              "      <td>34</td>\n",
              "      <td>34</td>\n",
              "      <td>35</td>\n",
              "      <td>35</td>\n",
              "      <td>36</td>\n",
              "      <td>36</td>\n",
              "      <td>36</td>\n",
              "      <td>36</td>\n",
              "      <td>37</td>\n",
              "      <td>37</td>\n",
              "      <td>37</td>\n",
              "      <td>37</td>\n",
              "      <td>37</td>\n",
              "      <td>37</td>\n",
              "      <td>37</td>\n",
              "      <td>37</td>\n",
              "      <td>37</td>\n",
              "      <td>37</td>\n",
              "      <td>36</td>\n",
              "      <td>36</td>\n",
              "      <td>36</td>\n",
              "      <td>36</td>\n",
              "      <td>35</td>\n",
              "      <td>35</td>\n",
              "    </tr>\n",
              "    <tr>\n",
              "      <th>1</th>\n",
              "      <td>E09000001</td>\n",
              "      <td>City of London</td>\n",
              "      <td>Female</td>\n",
              "      <td>1</td>\n",
              "      <td>All persons</td>\n",
              "      <td>34</td>\n",
              "      <td>46</td>\n",
              "      <td>39</td>\n",
              "      <td>33</td>\n",
              "      <td>29</td>\n",
              "      <td>34</td>\n",
              "      <td>36</td>\n",
              "      <td>26</td>\n",
              "      <td>27</td>\n",
              "      <td>28</td>\n",
              "      <td>29</td>\n",
              "      <td>29</td>\n",
              "      <td>30</td>\n",
              "      <td>30</td>\n",
              "      <td>31</td>\n",
              "      <td>32</td>\n",
              "      <td>32</td>\n",
              "      <td>33</td>\n",
              "      <td>33</td>\n",
              "      <td>34</td>\n",
              "      <td>34</td>\n",
              "      <td>34</td>\n",
              "      <td>35</td>\n",
              "      <td>35</td>\n",
              "      <td>35</td>\n",
              "      <td>35</td>\n",
              "      <td>35</td>\n",
              "      <td>35</td>\n",
              "      <td>35</td>\n",
              "      <td>36</td>\n",
              "      <td>36</td>\n",
              "      <td>36</td>\n",
              "      <td>35</td>\n",
              "      <td>35</td>\n",
              "      <td>35</td>\n",
              "      <td>34</td>\n",
              "      <td>34</td>\n",
              "      <td>34</td>\n",
              "      <td>34</td>\n",
              "      <td>34</td>\n",
              "    </tr>\n",
              "    <tr>\n",
              "      <th>2</th>\n",
              "      <td>E09000001</td>\n",
              "      <td>City of London</td>\n",
              "      <td>Female</td>\n",
              "      <td>2</td>\n",
              "      <td>All persons</td>\n",
              "      <td>28</td>\n",
              "      <td>35</td>\n",
              "      <td>42</td>\n",
              "      <td>40</td>\n",
              "      <td>37</td>\n",
              "      <td>33</td>\n",
              "      <td>32</td>\n",
              "      <td>35</td>\n",
              "      <td>26</td>\n",
              "      <td>27</td>\n",
              "      <td>28</td>\n",
              "      <td>29</td>\n",
              "      <td>29</td>\n",
              "      <td>30</td>\n",
              "      <td>30</td>\n",
              "      <td>31</td>\n",
              "      <td>31</td>\n",
              "      <td>32</td>\n",
              "      <td>32</td>\n",
              "      <td>33</td>\n",
              "      <td>33</td>\n",
              "      <td>34</td>\n",
              "      <td>34</td>\n",
              "      <td>34</td>\n",
              "      <td>34</td>\n",
              "      <td>35</td>\n",
              "      <td>35</td>\n",
              "      <td>35</td>\n",
              "      <td>35</td>\n",
              "      <td>35</td>\n",
              "      <td>35</td>\n",
              "      <td>35</td>\n",
              "      <td>35</td>\n",
              "      <td>35</td>\n",
              "      <td>34</td>\n",
              "      <td>34</td>\n",
              "      <td>34</td>\n",
              "      <td>34</td>\n",
              "      <td>33</td>\n",
              "      <td>33</td>\n",
              "    </tr>\n",
              "    <tr>\n",
              "      <th>3</th>\n",
              "      <td>E09000001</td>\n",
              "      <td>City of London</td>\n",
              "      <td>Female</td>\n",
              "      <td>3</td>\n",
              "      <td>All persons</td>\n",
              "      <td>18</td>\n",
              "      <td>34</td>\n",
              "      <td>36</td>\n",
              "      <td>47</td>\n",
              "      <td>47</td>\n",
              "      <td>40</td>\n",
              "      <td>30</td>\n",
              "      <td>31</td>\n",
              "      <td>34</td>\n",
              "      <td>26</td>\n",
              "      <td>27</td>\n",
              "      <td>27</td>\n",
              "      <td>28</td>\n",
              "      <td>29</td>\n",
              "      <td>29</td>\n",
              "      <td>30</td>\n",
              "      <td>30</td>\n",
              "      <td>31</td>\n",
              "      <td>31</td>\n",
              "      <td>32</td>\n",
              "      <td>32</td>\n",
              "      <td>33</td>\n",
              "      <td>33</td>\n",
              "      <td>33</td>\n",
              "      <td>34</td>\n",
              "      <td>34</td>\n",
              "      <td>34</td>\n",
              "      <td>34</td>\n",
              "      <td>34</td>\n",
              "      <td>34</td>\n",
              "      <td>34</td>\n",
              "      <td>34</td>\n",
              "      <td>34</td>\n",
              "      <td>34</td>\n",
              "      <td>34</td>\n",
              "      <td>33</td>\n",
              "      <td>33</td>\n",
              "      <td>33</td>\n",
              "      <td>33</td>\n",
              "      <td>33</td>\n",
              "    </tr>\n",
              "    <tr>\n",
              "      <th>4</th>\n",
              "      <td>E09000001</td>\n",
              "      <td>City of London</td>\n",
              "      <td>Female</td>\n",
              "      <td>4</td>\n",
              "      <td>All persons</td>\n",
              "      <td>21</td>\n",
              "      <td>21</td>\n",
              "      <td>31</td>\n",
              "      <td>38</td>\n",
              "      <td>51</td>\n",
              "      <td>55</td>\n",
              "      <td>38</td>\n",
              "      <td>31</td>\n",
              "      <td>32</td>\n",
              "      <td>33</td>\n",
              "      <td>27</td>\n",
              "      <td>27</td>\n",
              "      <td>28</td>\n",
              "      <td>29</td>\n",
              "      <td>29</td>\n",
              "      <td>30</td>\n",
              "      <td>31</td>\n",
              "      <td>31</td>\n",
              "      <td>31</td>\n",
              "      <td>32</td>\n",
              "      <td>32</td>\n",
              "      <td>33</td>\n",
              "      <td>33</td>\n",
              "      <td>33</td>\n",
              "      <td>34</td>\n",
              "      <td>34</td>\n",
              "      <td>34</td>\n",
              "      <td>34</td>\n",
              "      <td>34</td>\n",
              "      <td>34</td>\n",
              "      <td>34</td>\n",
              "      <td>34</td>\n",
              "      <td>34</td>\n",
              "      <td>34</td>\n",
              "      <td>34</td>\n",
              "      <td>34</td>\n",
              "      <td>33</td>\n",
              "      <td>33</td>\n",
              "      <td>33</td>\n",
              "      <td>33</td>\n",
              "    </tr>\n",
              "  </tbody>\n",
              "</table>\n",
              "</div>"
            ],
            "text/plain": [
              "    gss_code         borough     sex age  ... 2047  2048  2049  2050\n",
              "0  E09000001  City of London  Female   0  ...   36    36    35    35\n",
              "1  E09000001  City of London  Female   1  ...   34    34    34    34\n",
              "2  E09000001  City of London  Female   2  ...   34    34    33    33\n",
              "3  E09000001  City of London  Female   3  ...   33    33    33    33\n",
              "4  E09000001  City of London  Female   4  ...   33    33    33    33\n",
              "\n",
              "[5 rows x 45 columns]"
            ]
          },
          "metadata": {
            "tags": []
          },
          "execution_count": 6
        }
      ]
    },
    {
      "cell_type": "code",
      "metadata": {
        "colab": {
          "base_uri": "https://localhost:8080/"
        },
        "id": "lzGittYaEkd6",
        "outputId": "1dfabc2b-c231-457c-b7a6-852ccb3ec262"
      },
      "source": [
        "population_data_female['ethnic_group'].unique()"
      ],
      "execution_count": 7,
      "outputs": [
        {
          "output_type": "execute_result",
          "data": {
            "text/plain": [
              "array(['All persons', 'White British', 'White Irish', 'Other White',\n",
              "       'White & Black Caribbean', 'White & Black African',\n",
              "       'White & Asian', 'Other Mixed', 'Indian', 'Pakistani',\n",
              "       'Bangladeshi', 'Chinese', 'Other Asian', 'Black African',\n",
              "       'Black Caribbean', 'Other Black', 'Arab', 'Other Ethnic Group',\n",
              "       'BAME'], dtype=object)"
            ]
          },
          "metadata": {
            "tags": []
          },
          "execution_count": 7
        }
      ]
    },
    {
      "cell_type": "code",
      "metadata": {
        "id": "Qb7aEwVJCzYx"
      },
      "source": [
        "population_data_male = pd.read_excel(\"Ethnic-group projections.xlsx\", sheet_name = \"Population - Males\")"
      ],
      "execution_count": 8,
      "outputs": []
    },
    {
      "cell_type": "code",
      "metadata": {
        "colab": {
          "base_uri": "https://localhost:8080/",
          "height": 309
        },
        "id": "JUmlSQATCzUM",
        "outputId": "d548cbc9-b53f-47f1-f6f9-879e29b37e15"
      },
      "source": [
        "population_data_male.head()"
      ],
      "execution_count": 9,
      "outputs": [
        {
          "output_type": "execute_result",
          "data": {
            "text/html": [
              "<div>\n",
              "<style scoped>\n",
              "    .dataframe tbody tr th:only-of-type {\n",
              "        vertical-align: middle;\n",
              "    }\n",
              "\n",
              "    .dataframe tbody tr th {\n",
              "        vertical-align: top;\n",
              "    }\n",
              "\n",
              "    .dataframe thead th {\n",
              "        text-align: right;\n",
              "    }\n",
              "</style>\n",
              "<table border=\"1\" class=\"dataframe\">\n",
              "  <thead>\n",
              "    <tr style=\"text-align: right;\">\n",
              "      <th></th>\n",
              "      <th>gss_code</th>\n",
              "      <th>borough</th>\n",
              "      <th>sex</th>\n",
              "      <th>age</th>\n",
              "      <th>ethnic_group</th>\n",
              "      <th>2011</th>\n",
              "      <th>2012</th>\n",
              "      <th>2013</th>\n",
              "      <th>2014</th>\n",
              "      <th>2015</th>\n",
              "      <th>2016</th>\n",
              "      <th>2017</th>\n",
              "      <th>2018</th>\n",
              "      <th>2019</th>\n",
              "      <th>2020</th>\n",
              "      <th>2021</th>\n",
              "      <th>2022</th>\n",
              "      <th>2023</th>\n",
              "      <th>2024</th>\n",
              "      <th>2025</th>\n",
              "      <th>2026</th>\n",
              "      <th>2027</th>\n",
              "      <th>2028</th>\n",
              "      <th>2029</th>\n",
              "      <th>2030</th>\n",
              "      <th>2031</th>\n",
              "      <th>2032</th>\n",
              "      <th>2033</th>\n",
              "      <th>2034</th>\n",
              "      <th>2035</th>\n",
              "      <th>2036</th>\n",
              "      <th>2037</th>\n",
              "      <th>2038</th>\n",
              "      <th>2039</th>\n",
              "      <th>2040</th>\n",
              "      <th>2041</th>\n",
              "      <th>2042</th>\n",
              "      <th>2043</th>\n",
              "      <th>2044</th>\n",
              "      <th>2045</th>\n",
              "      <th>2046</th>\n",
              "      <th>2047</th>\n",
              "      <th>2048</th>\n",
              "      <th>2049</th>\n",
              "      <th>2050</th>\n",
              "    </tr>\n",
              "  </thead>\n",
              "  <tbody>\n",
              "    <tr>\n",
              "      <th>0</th>\n",
              "      <td>E09000001</td>\n",
              "      <td>City of London</td>\n",
              "      <td>Male</td>\n",
              "      <td>0</td>\n",
              "      <td>All persons</td>\n",
              "      <td>32</td>\n",
              "      <td>28</td>\n",
              "      <td>33</td>\n",
              "      <td>32</td>\n",
              "      <td>30</td>\n",
              "      <td>13</td>\n",
              "      <td>29</td>\n",
              "      <td>30</td>\n",
              "      <td>33</td>\n",
              "      <td>34</td>\n",
              "      <td>34</td>\n",
              "      <td>35</td>\n",
              "      <td>36</td>\n",
              "      <td>36</td>\n",
              "      <td>37</td>\n",
              "      <td>37</td>\n",
              "      <td>38</td>\n",
              "      <td>38</td>\n",
              "      <td>39</td>\n",
              "      <td>39</td>\n",
              "      <td>40</td>\n",
              "      <td>40</td>\n",
              "      <td>40</td>\n",
              "      <td>41</td>\n",
              "      <td>41</td>\n",
              "      <td>41</td>\n",
              "      <td>41</td>\n",
              "      <td>41</td>\n",
              "      <td>41</td>\n",
              "      <td>42</td>\n",
              "      <td>42</td>\n",
              "      <td>42</td>\n",
              "      <td>41</td>\n",
              "      <td>41</td>\n",
              "      <td>41</td>\n",
              "      <td>41</td>\n",
              "      <td>40</td>\n",
              "      <td>40</td>\n",
              "      <td>40</td>\n",
              "      <td>40</td>\n",
              "    </tr>\n",
              "    <tr>\n",
              "      <th>1</th>\n",
              "      <td>E09000001</td>\n",
              "      <td>City of London</td>\n",
              "      <td>Male</td>\n",
              "      <td>1</td>\n",
              "      <td>All persons</td>\n",
              "      <td>18</td>\n",
              "      <td>23</td>\n",
              "      <td>25</td>\n",
              "      <td>33</td>\n",
              "      <td>37</td>\n",
              "      <td>31</td>\n",
              "      <td>15</td>\n",
              "      <td>28</td>\n",
              "      <td>29</td>\n",
              "      <td>30</td>\n",
              "      <td>31</td>\n",
              "      <td>32</td>\n",
              "      <td>32</td>\n",
              "      <td>33</td>\n",
              "      <td>33</td>\n",
              "      <td>34</td>\n",
              "      <td>35</td>\n",
              "      <td>35</td>\n",
              "      <td>36</td>\n",
              "      <td>36</td>\n",
              "      <td>37</td>\n",
              "      <td>37</td>\n",
              "      <td>37</td>\n",
              "      <td>37</td>\n",
              "      <td>38</td>\n",
              "      <td>38</td>\n",
              "      <td>38</td>\n",
              "      <td>38</td>\n",
              "      <td>38</td>\n",
              "      <td>38</td>\n",
              "      <td>38</td>\n",
              "      <td>38</td>\n",
              "      <td>38</td>\n",
              "      <td>37</td>\n",
              "      <td>37</td>\n",
              "      <td>37</td>\n",
              "      <td>37</td>\n",
              "      <td>36</td>\n",
              "      <td>36</td>\n",
              "      <td>36</td>\n",
              "    </tr>\n",
              "    <tr>\n",
              "      <th>2</th>\n",
              "      <td>E09000001</td>\n",
              "      <td>City of London</td>\n",
              "      <td>Male</td>\n",
              "      <td>2</td>\n",
              "      <td>All persons</td>\n",
              "      <td>9</td>\n",
              "      <td>21</td>\n",
              "      <td>27</td>\n",
              "      <td>31</td>\n",
              "      <td>41</td>\n",
              "      <td>32</td>\n",
              "      <td>17</td>\n",
              "      <td>13</td>\n",
              "      <td>20</td>\n",
              "      <td>19</td>\n",
              "      <td>20</td>\n",
              "      <td>21</td>\n",
              "      <td>21</td>\n",
              "      <td>22</td>\n",
              "      <td>23</td>\n",
              "      <td>23</td>\n",
              "      <td>24</td>\n",
              "      <td>25</td>\n",
              "      <td>25</td>\n",
              "      <td>25</td>\n",
              "      <td>26</td>\n",
              "      <td>26</td>\n",
              "      <td>26</td>\n",
              "      <td>26</td>\n",
              "      <td>26</td>\n",
              "      <td>26</td>\n",
              "      <td>26</td>\n",
              "      <td>26</td>\n",
              "      <td>26</td>\n",
              "      <td>26</td>\n",
              "      <td>26</td>\n",
              "      <td>26</td>\n",
              "      <td>25</td>\n",
              "      <td>25</td>\n",
              "      <td>25</td>\n",
              "      <td>24</td>\n",
              "      <td>24</td>\n",
              "      <td>24</td>\n",
              "      <td>24</td>\n",
              "      <td>23</td>\n",
              "    </tr>\n",
              "    <tr>\n",
              "      <th>3</th>\n",
              "      <td>E09000001</td>\n",
              "      <td>City of London</td>\n",
              "      <td>Male</td>\n",
              "      <td>3</td>\n",
              "      <td>All persons</td>\n",
              "      <td>23</td>\n",
              "      <td>11</td>\n",
              "      <td>19</td>\n",
              "      <td>28</td>\n",
              "      <td>32</td>\n",
              "      <td>38</td>\n",
              "      <td>29</td>\n",
              "      <td>18</td>\n",
              "      <td>14</td>\n",
              "      <td>20</td>\n",
              "      <td>19</td>\n",
              "      <td>20</td>\n",
              "      <td>21</td>\n",
              "      <td>21</td>\n",
              "      <td>22</td>\n",
              "      <td>23</td>\n",
              "      <td>23</td>\n",
              "      <td>24</td>\n",
              "      <td>24</td>\n",
              "      <td>25</td>\n",
              "      <td>25</td>\n",
              "      <td>25</td>\n",
              "      <td>25</td>\n",
              "      <td>26</td>\n",
              "      <td>26</td>\n",
              "      <td>26</td>\n",
              "      <td>26</td>\n",
              "      <td>26</td>\n",
              "      <td>26</td>\n",
              "      <td>26</td>\n",
              "      <td>26</td>\n",
              "      <td>26</td>\n",
              "      <td>25</td>\n",
              "      <td>25</td>\n",
              "      <td>24</td>\n",
              "      <td>24</td>\n",
              "      <td>24</td>\n",
              "      <td>24</td>\n",
              "      <td>24</td>\n",
              "      <td>23</td>\n",
              "    </tr>\n",
              "    <tr>\n",
              "      <th>4</th>\n",
              "      <td>E09000001</td>\n",
              "      <td>City of London</td>\n",
              "      <td>Male</td>\n",
              "      <td>4</td>\n",
              "      <td>All persons</td>\n",
              "      <td>13</td>\n",
              "      <td>21</td>\n",
              "      <td>11</td>\n",
              "      <td>17</td>\n",
              "      <td>33</td>\n",
              "      <td>31</td>\n",
              "      <td>36</td>\n",
              "      <td>29</td>\n",
              "      <td>19</td>\n",
              "      <td>16</td>\n",
              "      <td>21</td>\n",
              "      <td>21</td>\n",
              "      <td>21</td>\n",
              "      <td>22</td>\n",
              "      <td>23</td>\n",
              "      <td>23</td>\n",
              "      <td>24</td>\n",
              "      <td>24</td>\n",
              "      <td>25</td>\n",
              "      <td>25</td>\n",
              "      <td>26</td>\n",
              "      <td>26</td>\n",
              "      <td>26</td>\n",
              "      <td>26</td>\n",
              "      <td>27</td>\n",
              "      <td>27</td>\n",
              "      <td>27</td>\n",
              "      <td>27</td>\n",
              "      <td>27</td>\n",
              "      <td>27</td>\n",
              "      <td>27</td>\n",
              "      <td>27</td>\n",
              "      <td>27</td>\n",
              "      <td>26</td>\n",
              "      <td>26</td>\n",
              "      <td>25</td>\n",
              "      <td>25</td>\n",
              "      <td>25</td>\n",
              "      <td>25</td>\n",
              "      <td>25</td>\n",
              "    </tr>\n",
              "  </tbody>\n",
              "</table>\n",
              "</div>"
            ],
            "text/plain": [
              "    gss_code         borough   sex age  ... 2047  2048  2049  2050\n",
              "0  E09000001  City of London  Male   0  ...   40    40    40    40\n",
              "1  E09000001  City of London  Male   1  ...   37    36    36    36\n",
              "2  E09000001  City of London  Male   2  ...   24    24    24    23\n",
              "3  E09000001  City of London  Male   3  ...   24    24    24    23\n",
              "4  E09000001  City of London  Male   4  ...   25    25    25    25\n",
              "\n",
              "[5 rows x 45 columns]"
            ]
          },
          "metadata": {
            "tags": []
          },
          "execution_count": 9
        }
      ]
    },
    {
      "cell_type": "code",
      "metadata": {
        "id": "s9LoTmCyCzPC"
      },
      "source": [
        "population_data_male = population_data_male[population_data_male.age != 'All ages']"
      ],
      "execution_count": 10,
      "outputs": []
    },
    {
      "cell_type": "code",
      "metadata": {
        "colab": {
          "base_uri": "https://localhost:8080/"
        },
        "id": "mTBA-xswCzJ2",
        "outputId": "794826a9-4a6e-4fc4-fadd-5d8d4cf5dad5"
      },
      "source": [
        "population_data_male['ethnic_group'].describe()"
      ],
      "execution_count": 11,
      "outputs": [
        {
          "output_type": "execute_result",
          "data": {
            "text/plain": [
              "count             62244\n",
              "unique               19\n",
              "top       White British\n",
              "freq               3276\n",
              "Name: ethnic_group, dtype: object"
            ]
          },
          "metadata": {
            "tags": []
          },
          "execution_count": 11
        }
      ]
    },
    {
      "cell_type": "code",
      "metadata": {
        "id": "kY6EkZwvCzDv"
      },
      "source": [
        "population_data_male = population_data_male[population_data_male.ethnic_group != 'All persons']"
      ],
      "execution_count": 12,
      "outputs": []
    },
    {
      "cell_type": "code",
      "metadata": {
        "id": "pqNfJZONCy_A"
      },
      "source": [
        "population_data_male = population_data_male[population_data_male.ethnic_group != 'BAME']"
      ],
      "execution_count": 13,
      "outputs": []
    },
    {
      "cell_type": "code",
      "metadata": {
        "id": "KPaLWuLHCy62"
      },
      "source": [
        "population_data_male = population_data_male.drop(columns = range(2021,2051))"
      ],
      "execution_count": 14,
      "outputs": []
    },
    {
      "cell_type": "code",
      "metadata": {
        "colab": {
          "base_uri": "https://localhost:8080/",
          "height": 204
        },
        "id": "xhYGp6jOCy2N",
        "outputId": "e28c288a-b1fe-471e-9454-cd8c64dcd218"
      },
      "source": [
        "population_data_male.head()"
      ],
      "execution_count": 15,
      "outputs": [
        {
          "output_type": "execute_result",
          "data": {
            "text/html": [
              "<div>\n",
              "<style scoped>\n",
              "    .dataframe tbody tr th:only-of-type {\n",
              "        vertical-align: middle;\n",
              "    }\n",
              "\n",
              "    .dataframe tbody tr th {\n",
              "        vertical-align: top;\n",
              "    }\n",
              "\n",
              "    .dataframe thead th {\n",
              "        text-align: right;\n",
              "    }\n",
              "</style>\n",
              "<table border=\"1\" class=\"dataframe\">\n",
              "  <thead>\n",
              "    <tr style=\"text-align: right;\">\n",
              "      <th></th>\n",
              "      <th>gss_code</th>\n",
              "      <th>borough</th>\n",
              "      <th>sex</th>\n",
              "      <th>age</th>\n",
              "      <th>ethnic_group</th>\n",
              "      <th>2011</th>\n",
              "      <th>2012</th>\n",
              "      <th>2013</th>\n",
              "      <th>2014</th>\n",
              "      <th>2015</th>\n",
              "      <th>2016</th>\n",
              "      <th>2017</th>\n",
              "      <th>2018</th>\n",
              "      <th>2019</th>\n",
              "      <th>2020</th>\n",
              "    </tr>\n",
              "  </thead>\n",
              "  <tbody>\n",
              "    <tr>\n",
              "      <th>92</th>\n",
              "      <td>E09000001</td>\n",
              "      <td>City of London</td>\n",
              "      <td>Male</td>\n",
              "      <td>0</td>\n",
              "      <td>White British</td>\n",
              "      <td>15</td>\n",
              "      <td>11</td>\n",
              "      <td>11</td>\n",
              "      <td>9</td>\n",
              "      <td>8</td>\n",
              "      <td>4</td>\n",
              "      <td>7</td>\n",
              "      <td>8</td>\n",
              "      <td>8</td>\n",
              "      <td>9</td>\n",
              "    </tr>\n",
              "    <tr>\n",
              "      <th>93</th>\n",
              "      <td>E09000001</td>\n",
              "      <td>City of London</td>\n",
              "      <td>Male</td>\n",
              "      <td>1</td>\n",
              "      <td>White British</td>\n",
              "      <td>10</td>\n",
              "      <td>9</td>\n",
              "      <td>8</td>\n",
              "      <td>9</td>\n",
              "      <td>9</td>\n",
              "      <td>8</td>\n",
              "      <td>3</td>\n",
              "      <td>6</td>\n",
              "      <td>7</td>\n",
              "      <td>7</td>\n",
              "    </tr>\n",
              "    <tr>\n",
              "      <th>94</th>\n",
              "      <td>E09000001</td>\n",
              "      <td>City of London</td>\n",
              "      <td>Male</td>\n",
              "      <td>2</td>\n",
              "      <td>White British</td>\n",
              "      <td>3</td>\n",
              "      <td>9</td>\n",
              "      <td>10</td>\n",
              "      <td>9</td>\n",
              "      <td>10</td>\n",
              "      <td>7</td>\n",
              "      <td>4</td>\n",
              "      <td>3</td>\n",
              "      <td>4</td>\n",
              "      <td>4</td>\n",
              "    </tr>\n",
              "    <tr>\n",
              "      <th>95</th>\n",
              "      <td>E09000001</td>\n",
              "      <td>City of London</td>\n",
              "      <td>Male</td>\n",
              "      <td>3</td>\n",
              "      <td>White British</td>\n",
              "      <td>9</td>\n",
              "      <td>3</td>\n",
              "      <td>7</td>\n",
              "      <td>9</td>\n",
              "      <td>8</td>\n",
              "      <td>9</td>\n",
              "      <td>6</td>\n",
              "      <td>3</td>\n",
              "      <td>3</td>\n",
              "      <td>4</td>\n",
              "    </tr>\n",
              "    <tr>\n",
              "      <th>96</th>\n",
              "      <td>E09000001</td>\n",
              "      <td>City of London</td>\n",
              "      <td>Male</td>\n",
              "      <td>4</td>\n",
              "      <td>White British</td>\n",
              "      <td>3</td>\n",
              "      <td>7</td>\n",
              "      <td>3</td>\n",
              "      <td>5</td>\n",
              "      <td>9</td>\n",
              "      <td>7</td>\n",
              "      <td>8</td>\n",
              "      <td>6</td>\n",
              "      <td>4</td>\n",
              "      <td>3</td>\n",
              "    </tr>\n",
              "  </tbody>\n",
              "</table>\n",
              "</div>"
            ],
            "text/plain": [
              "     gss_code         borough   sex age  ... 2017  2018  2019  2020\n",
              "92  E09000001  City of London  Male   0  ...    7     8     8     9\n",
              "93  E09000001  City of London  Male   1  ...    3     6     7     7\n",
              "94  E09000001  City of London  Male   2  ...    4     3     4     4\n",
              "95  E09000001  City of London  Male   3  ...    6     3     3     4\n",
              "96  E09000001  City of London  Male   4  ...    8     6     4     3\n",
              "\n",
              "[5 rows x 15 columns]"
            ]
          },
          "metadata": {
            "tags": []
          },
          "execution_count": 15
        }
      ]
    },
    {
      "cell_type": "code",
      "metadata": {
        "id": "XwFipXLHHgET"
      },
      "source": [
        "population_data_male = population_data_male.replace(['Indian','Pakistani','Bangladeshi','Other Asian','Arab'],'Asian or Asian British')\n",
        "population_data_male = population_data_male.replace(['Black African','Black Caribbean','Other Black'],'Black or Black British')\n",
        "population_data_male = population_data_male.replace('Chinese','Chinese/Other')\n",
        "population_data_male = population_data_male.replace(['Other Mixed','White & Black Caribbean','White & Black African','White & Asian'],'Mixed')\n",
        "population_data_male = population_data_male.replace('Other Ethnic Group','Not Stated')\n",
        "population_data_male = population_data_male.replace(['White British','Other White','White Irish'],'White')"
      ],
      "execution_count": 16,
      "outputs": []
    },
    {
      "cell_type": "code",
      "metadata": {
        "colab": {
          "base_uri": "https://localhost:8080/"
        },
        "id": "fjcLQC7QHfh0",
        "outputId": "caf8b31e-516f-466a-8eeb-0c5f0281a177"
      },
      "source": [
        "population_data_male['ethnic_group'].unique()"
      ],
      "execution_count": 17,
      "outputs": [
        {
          "output_type": "execute_result",
          "data": {
            "text/plain": [
              "array(['White', 'Mixed', 'Asian or Asian British', 'Chinese/Other',\n",
              "       'Black or Black British', 'Not Stated'], dtype=object)"
            ]
          },
          "metadata": {
            "tags": []
          },
          "execution_count": 17
        }
      ]
    },
    {
      "cell_type": "code",
      "metadata": {
        "colab": {
          "base_uri": "https://localhost:8080/"
        },
        "id": "TI4GepWvTu1n",
        "outputId": "ecd197c3-e979-4a88-fe2b-f6d4c572404d"
      },
      "source": [
        "population_data_male = population_data_male.loc[population_data_male['age'] >= 21]\n",
        "population_data_male['age'].unique()"
      ],
      "execution_count": 19,
      "outputs": [
        {
          "output_type": "execute_result",
          "data": {
            "text/plain": [
              "array([21, 22, 23, 24, 25, 26, 27, 28, 29, 30, 31, 32, 33, 34, 35, 36, 37,\n",
              "       38, 39, 40, 41, 42, 43, 44, 45, 46, 47, 48, 49, 50, 51, 52, 53, 54,\n",
              "       55, 56, 57, 58, 59, 60, 61, 62, 63, 64, 65, 66, 67, 68, 69, 70, 71,\n",
              "       72, 73, 74, 75, 76, 77, 78, 79, 80, 81, 82, 83, 84, 85, 86, 87, 88,\n",
              "       89, 90])"
            ]
          },
          "metadata": {
            "tags": []
          },
          "execution_count": 19
        }
      ]
    },
    {
      "cell_type": "code",
      "metadata": {
        "id": "tfhoyP1vCyw8",
        "colab": {
          "base_uri": "https://localhost:8080/",
          "height": 204
        },
        "outputId": "44d41ed1-d8a5-42e3-fbf2-a9fe67ebb9c7"
      },
      "source": [
        "population_data_male_2017 = population_data_male.drop([2011,2012,2013,2014,2015,2016,2018,2019,2020], axis=1)\n",
        "population_data_male_2017.head()"
      ],
      "execution_count": 20,
      "outputs": [
        {
          "output_type": "execute_result",
          "data": {
            "text/html": [
              "<div>\n",
              "<style scoped>\n",
              "    .dataframe tbody tr th:only-of-type {\n",
              "        vertical-align: middle;\n",
              "    }\n",
              "\n",
              "    .dataframe tbody tr th {\n",
              "        vertical-align: top;\n",
              "    }\n",
              "\n",
              "    .dataframe thead th {\n",
              "        text-align: right;\n",
              "    }\n",
              "</style>\n",
              "<table border=\"1\" class=\"dataframe\">\n",
              "  <thead>\n",
              "    <tr style=\"text-align: right;\">\n",
              "      <th></th>\n",
              "      <th>gss_code</th>\n",
              "      <th>borough</th>\n",
              "      <th>sex</th>\n",
              "      <th>age</th>\n",
              "      <th>ethnic_group</th>\n",
              "      <th>2017</th>\n",
              "    </tr>\n",
              "  </thead>\n",
              "  <tbody>\n",
              "    <tr>\n",
              "      <th>113</th>\n",
              "      <td>E09000001</td>\n",
              "      <td>City of London</td>\n",
              "      <td>Male</td>\n",
              "      <td>21</td>\n",
              "      <td>White</td>\n",
              "      <td>11</td>\n",
              "    </tr>\n",
              "    <tr>\n",
              "      <th>114</th>\n",
              "      <td>E09000001</td>\n",
              "      <td>City of London</td>\n",
              "      <td>Male</td>\n",
              "      <td>22</td>\n",
              "      <td>White</td>\n",
              "      <td>11</td>\n",
              "    </tr>\n",
              "    <tr>\n",
              "      <th>115</th>\n",
              "      <td>E09000001</td>\n",
              "      <td>City of London</td>\n",
              "      <td>Male</td>\n",
              "      <td>23</td>\n",
              "      <td>White</td>\n",
              "      <td>15</td>\n",
              "    </tr>\n",
              "    <tr>\n",
              "      <th>116</th>\n",
              "      <td>E09000001</td>\n",
              "      <td>City of London</td>\n",
              "      <td>Male</td>\n",
              "      <td>24</td>\n",
              "      <td>White</td>\n",
              "      <td>16</td>\n",
              "    </tr>\n",
              "    <tr>\n",
              "      <th>117</th>\n",
              "      <td>E09000001</td>\n",
              "      <td>City of London</td>\n",
              "      <td>Male</td>\n",
              "      <td>25</td>\n",
              "      <td>White</td>\n",
              "      <td>22</td>\n",
              "    </tr>\n",
              "  </tbody>\n",
              "</table>\n",
              "</div>"
            ],
            "text/plain": [
              "      gss_code         borough   sex  age ethnic_group  2017\n",
              "113  E09000001  City of London  Male   21        White    11\n",
              "114  E09000001  City of London  Male   22        White    11\n",
              "115  E09000001  City of London  Male   23        White    15\n",
              "116  E09000001  City of London  Male   24        White    16\n",
              "117  E09000001  City of London  Male   25        White    22"
            ]
          },
          "metadata": {
            "tags": []
          },
          "execution_count": 20
        }
      ]
    },
    {
      "cell_type": "code",
      "metadata": {
        "colab": {
          "base_uri": "https://localhost:8080/",
          "height": 475
        },
        "id": "1FVOqBfRhtj2",
        "outputId": "590cacf9-c8a4-4a27-dcc7-5d41e20189de"
      },
      "source": [
        "fig, ax = plt.subplots(figsize=(15,7))\n",
        "population_data_male_2017 = population_data_male_2017.groupby(['age', 'ethnic_group']).agg({2017:'sum'}).unstack().plot(ax=ax)\n",
        "plt.title(\"The age distribution of males over the age of 21 in 2017\")"
      ],
      "execution_count": 21,
      "outputs": [
        {
          "output_type": "execute_result",
          "data": {
            "text/plain": [
              "Text(0.5, 1.0, 'The age distribution of males over the age of 21 in 2017')"
            ]
          },
          "metadata": {
            "tags": []
          },
          "execution_count": 21
        },
        {
          "output_type": "display_data",
          "data": {
            "image/png": "[encoded data removed]",
            "text/plain": [
              "<Figure size 1080x504 with 1 Axes>"
            ]
          },
          "metadata": {
            "tags": [],
            "needs_background": "light"
          }
        }
      ]
    },
    {
      "cell_type": "code",
      "metadata": {
        "colab": {
          "base_uri": "https://localhost:8080/",
          "height": 204
        },
        "id": "pGcxRrkzj23b",
        "outputId": "b6b28548-2bc2-4926-e64f-e5e5965fdac1"
      },
      "source": [
        "population_data_male_2016 = population_data_male.drop([2011,2012,2013,2014,2015,2017,2018,2019,2020], axis=1)\n",
        "population_data_male_2016.head()"
      ],
      "execution_count": 22,
      "outputs": [
        {
          "output_type": "execute_result",
          "data": {
            "text/html": [
              "<div>\n",
              "<style scoped>\n",
              "    .dataframe tbody tr th:only-of-type {\n",
              "        vertical-align: middle;\n",
              "    }\n",
              "\n",
              "    .dataframe tbody tr th {\n",
              "        vertical-align: top;\n",
              "    }\n",
              "\n",
              "    .dataframe thead th {\n",
              "        text-align: right;\n",
              "    }\n",
              "</style>\n",
              "<table border=\"1\" class=\"dataframe\">\n",
              "  <thead>\n",
              "    <tr style=\"text-align: right;\">\n",
              "      <th></th>\n",
              "      <th>gss_code</th>\n",
              "      <th>borough</th>\n",
              "      <th>sex</th>\n",
              "      <th>age</th>\n",
              "      <th>ethnic_group</th>\n",
              "      <th>2016</th>\n",
              "    </tr>\n",
              "  </thead>\n",
              "  <tbody>\n",
              "    <tr>\n",
              "      <th>113</th>\n",
              "      <td>E09000001</td>\n",
              "      <td>City of London</td>\n",
              "      <td>Male</td>\n",
              "      <td>21</td>\n",
              "      <td>White</td>\n",
              "      <td>9</td>\n",
              "    </tr>\n",
              "    <tr>\n",
              "      <th>114</th>\n",
              "      <td>E09000001</td>\n",
              "      <td>City of London</td>\n",
              "      <td>Male</td>\n",
              "      <td>22</td>\n",
              "      <td>White</td>\n",
              "      <td>12</td>\n",
              "    </tr>\n",
              "    <tr>\n",
              "      <th>115</th>\n",
              "      <td>E09000001</td>\n",
              "      <td>City of London</td>\n",
              "      <td>Male</td>\n",
              "      <td>23</td>\n",
              "      <td>White</td>\n",
              "      <td>11</td>\n",
              "    </tr>\n",
              "    <tr>\n",
              "      <th>116</th>\n",
              "      <td>E09000001</td>\n",
              "      <td>City of London</td>\n",
              "      <td>Male</td>\n",
              "      <td>24</td>\n",
              "      <td>White</td>\n",
              "      <td>17</td>\n",
              "    </tr>\n",
              "    <tr>\n",
              "      <th>117</th>\n",
              "      <td>E09000001</td>\n",
              "      <td>City of London</td>\n",
              "      <td>Male</td>\n",
              "      <td>25</td>\n",
              "      <td>White</td>\n",
              "      <td>13</td>\n",
              "    </tr>\n",
              "  </tbody>\n",
              "</table>\n",
              "</div>"
            ],
            "text/plain": [
              "      gss_code         borough   sex  age ethnic_group  2016\n",
              "113  E09000001  City of London  Male   21        White     9\n",
              "114  E09000001  City of London  Male   22        White    12\n",
              "115  E09000001  City of London  Male   23        White    11\n",
              "116  E09000001  City of London  Male   24        White    17\n",
              "117  E09000001  City of London  Male   25        White    13"
            ]
          },
          "metadata": {
            "tags": []
          },
          "execution_count": 22
        }
      ]
    },
    {
      "cell_type": "code",
      "metadata": {
        "colab": {
          "base_uri": "https://localhost:8080/",
          "height": 475
        },
        "id": "5gLpmxNwkW5a",
        "outputId": "8b6c8e75-15c3-4816-e349-65082b8e828b"
      },
      "source": [
        "fig, ax = plt.subplots(figsize=(15,7))\n",
        "population_data_male_2016 = population_data_male_2016.groupby(['age', 'ethnic_group']).agg({2016:'sum'}).unstack().plot(ax=ax)\n",
        "plt.title(\"The age distribution of males over the age of 21 in 2016\")"
      ],
      "execution_count": 23,
      "outputs": [
        {
          "output_type": "execute_result",
          "data": {
            "text/plain": [
              "Text(0.5, 1.0, 'The age distribution of males over the age of 21 in 2016')"
            ]
          },
          "metadata": {
            "tags": []
          },
          "execution_count": 23
        },
        {
          "output_type": "display_data",
          "data": {
            "image/png": "[encoded data removed]",
            "text/plain": [
              "<Figure size 1080x504 with 1 Axes>"
            ]
          },
          "metadata": {
            "tags": [],
            "needs_background": "light"
          }
        }
      ]
    },
    {
      "cell_type": "code",
      "metadata": {
        "id": "rqDjqmTbEz5I"
      },
      "source": [
        "population_data_female = population_data_female[population_data_female.age != 'All ages']"
      ],
      "execution_count": 24,
      "outputs": []
    },
    {
      "cell_type": "code",
      "metadata": {
        "colab": {
          "base_uri": "https://localhost:8080/"
        },
        "id": "b86zzC5fEz0O",
        "outputId": "100a1982-f495-40c9-e6eb-14131d237958"
      },
      "source": [
        "population_data_female['ethnic_group'].describe()"
      ],
      "execution_count": 25,
      "outputs": [
        {
          "output_type": "execute_result",
          "data": {
            "text/plain": [
              "count             62244\n",
              "unique               19\n",
              "top       White British\n",
              "freq               3276\n",
              "Name: ethnic_group, dtype: object"
            ]
          },
          "metadata": {
            "tags": []
          },
          "execution_count": 25
        }
      ]
    },
    {
      "cell_type": "code",
      "metadata": {
        "id": "eLmhZZf4Ezv7"
      },
      "source": [
        "population_data_female = population_data_female[population_data_female.ethnic_group != 'All persons']"
      ],
      "execution_count": 26,
      "outputs": []
    },
    {
      "cell_type": "code",
      "metadata": {
        "id": "DpdMQPgLEzrT"
      },
      "source": [
        "population_data_female = population_data_female[population_data_female.ethnic_group != 'BAME']"
      ],
      "execution_count": 27,
      "outputs": []
    },
    {
      "cell_type": "code",
      "metadata": {
        "id": "w_ek1wSGEzl-"
      },
      "source": [
        "population_data_female = population_data_female.drop(columns = range(2021,2051))"
      ],
      "execution_count": 28,
      "outputs": []
    },
    {
      "cell_type": "code",
      "metadata": {
        "colab": {
          "base_uri": "https://localhost:8080/",
          "height": 204
        },
        "id": "sd8cZmPIEzfL",
        "outputId": "cd494a39-90b6-4f72-c65e-0fc2d074890b"
      },
      "source": [
        "population_data_female.head()"
      ],
      "execution_count": null,
      "outputs": [
        {
          "output_type": "execute_result",
          "data": {
            "text/html": [
              "<div>\n",
              "<style scoped>\n",
              "    .dataframe tbody tr th:only-of-type {\n",
              "        vertical-align: middle;\n",
              "    }\n",
              "\n",
              "    .dataframe tbody tr th {\n",
              "        vertical-align: top;\n",
              "    }\n",
              "\n",
              "    .dataframe thead th {\n",
              "        text-align: right;\n",
              "    }\n",
              "</style>\n",
              "<table border=\"1\" class=\"dataframe\">\n",
              "  <thead>\n",
              "    <tr style=\"text-align: right;\">\n",
              "      <th></th>\n",
              "      <th>gss_code</th>\n",
              "      <th>borough</th>\n",
              "      <th>sex</th>\n",
              "      <th>age</th>\n",
              "      <th>ethnic_group</th>\n",
              "      <th>2011</th>\n",
              "      <th>2012</th>\n",
              "      <th>2013</th>\n",
              "      <th>2014</th>\n",
              "      <th>2015</th>\n",
              "      <th>2016</th>\n",
              "      <th>2017</th>\n",
              "      <th>2018</th>\n",
              "      <th>2019</th>\n",
              "      <th>2020</th>\n",
              "    </tr>\n",
              "  </thead>\n",
              "  <tbody>\n",
              "    <tr>\n",
              "      <th>113</th>\n",
              "      <td>E09000001</td>\n",
              "      <td>City of London</td>\n",
              "      <td>Female</td>\n",
              "      <td>21</td>\n",
              "      <td>White British</td>\n",
              "      <td>9</td>\n",
              "      <td>10</td>\n",
              "      <td>4</td>\n",
              "      <td>9</td>\n",
              "      <td>5</td>\n",
              "      <td>12</td>\n",
              "      <td>11</td>\n",
              "      <td>9</td>\n",
              "      <td>10</td>\n",
              "      <td>10</td>\n",
              "    </tr>\n",
              "    <tr>\n",
              "      <th>114</th>\n",
              "      <td>E09000001</td>\n",
              "      <td>City of London</td>\n",
              "      <td>Female</td>\n",
              "      <td>22</td>\n",
              "      <td>White British</td>\n",
              "      <td>15</td>\n",
              "      <td>11</td>\n",
              "      <td>10</td>\n",
              "      <td>9</td>\n",
              "      <td>15</td>\n",
              "      <td>11</td>\n",
              "      <td>13</td>\n",
              "      <td>13</td>\n",
              "      <td>13</td>\n",
              "      <td>13</td>\n",
              "    </tr>\n",
              "    <tr>\n",
              "      <th>115</th>\n",
              "      <td>E09000001</td>\n",
              "      <td>City of London</td>\n",
              "      <td>Female</td>\n",
              "      <td>23</td>\n",
              "      <td>White British</td>\n",
              "      <td>29</td>\n",
              "      <td>16</td>\n",
              "      <td>11</td>\n",
              "      <td>16</td>\n",
              "      <td>15</td>\n",
              "      <td>21</td>\n",
              "      <td>16</td>\n",
              "      <td>17</td>\n",
              "      <td>17</td>\n",
              "      <td>17</td>\n",
              "    </tr>\n",
              "    <tr>\n",
              "      <th>116</th>\n",
              "      <td>E09000001</td>\n",
              "      <td>City of London</td>\n",
              "      <td>Female</td>\n",
              "      <td>24</td>\n",
              "      <td>White British</td>\n",
              "      <td>28</td>\n",
              "      <td>25</td>\n",
              "      <td>16</td>\n",
              "      <td>7</td>\n",
              "      <td>17</td>\n",
              "      <td>17</td>\n",
              "      <td>20</td>\n",
              "      <td>19</td>\n",
              "      <td>19</td>\n",
              "      <td>19</td>\n",
              "    </tr>\n",
              "    <tr>\n",
              "      <th>117</th>\n",
              "      <td>E09000001</td>\n",
              "      <td>City of London</td>\n",
              "      <td>Female</td>\n",
              "      <td>25</td>\n",
              "      <td>White British</td>\n",
              "      <td>27</td>\n",
              "      <td>22</td>\n",
              "      <td>16</td>\n",
              "      <td>16</td>\n",
              "      <td>9</td>\n",
              "      <td>18</td>\n",
              "      <td>18</td>\n",
              "      <td>19</td>\n",
              "      <td>19</td>\n",
              "      <td>19</td>\n",
              "    </tr>\n",
              "  </tbody>\n",
              "</table>\n",
              "</div>"
            ],
            "text/plain": [
              "      gss_code         borough     sex age  ... 2017  2018  2019  2020\n",
              "113  E09000001  City of London  Female  21  ...   11     9    10    10\n",
              "114  E09000001  City of London  Female  22  ...   13    13    13    13\n",
              "115  E09000001  City of London  Female  23  ...   16    17    17    17\n",
              "116  E09000001  City of London  Female  24  ...   20    19    19    19\n",
              "117  E09000001  City of London  Female  25  ...   18    19    19    19\n",
              "\n",
              "[5 rows x 15 columns]"
            ]
          },
          "metadata": {
            "tags": []
          },
          "execution_count": 86
        }
      ]
    },
    {
      "cell_type": "code",
      "metadata": {
        "colab": {
          "base_uri": "https://localhost:8080/"
        },
        "id": "jn71lepFCysH",
        "outputId": "9ab45c39-733a-4fd5-f2e9-2d69830ff05d"
      },
      "source": [
        "population_data_female['age'].describe()"
      ],
      "execution_count": 31,
      "outputs": [
        {
          "output_type": "execute_result",
          "data": {
            "text/plain": [
              "count     42840\n",
              "unique       70\n",
              "top          90\n",
              "freq        612\n",
              "Name: age, dtype: int64"
            ]
          },
          "metadata": {
            "tags": []
          },
          "execution_count": 31
        }
      ]
    },
    {
      "cell_type": "code",
      "metadata": {
        "id": "fxOO0r9WCynR",
        "colab": {
          "base_uri": "https://localhost:8080/"
        },
        "outputId": "5c03c2c7-9c8c-499f-c9dd-3269da1bcefc"
      },
      "source": [
        "population_data_female = population_data_female.loc[population_data_female['age'] >= 21]\n",
        "population_data_female['age'].unique()"
      ],
      "execution_count": 30,
      "outputs": [
        {
          "output_type": "execute_result",
          "data": {
            "text/plain": [
              "array([21, 22, 23, 24, 25, 26, 27, 28, 29, 30, 31, 32, 33, 34, 35, 36, 37,\n",
              "       38, 39, 40, 41, 42, 43, 44, 45, 46, 47, 48, 49, 50, 51, 52, 53, 54,\n",
              "       55, 56, 57, 58, 59, 60, 61, 62, 63, 64, 65, 66, 67, 68, 69, 70, 71,\n",
              "       72, 73, 74, 75, 76, 77, 78, 79, 80, 81, 82, 83, 84, 85, 86, 87, 88,\n",
              "       89, 90], dtype=object)"
            ]
          },
          "metadata": {
            "tags": []
          },
          "execution_count": 30
        }
      ]
    },
    {
      "cell_type": "code",
      "metadata": {
        "colab": {
          "base_uri": "https://localhost:8080/",
          "height": 204
        },
        "id": "kxajfVD4Cyia",
        "outputId": "87933fa3-82f7-42b7-fa88-3d8768574c3c"
      },
      "source": [
        "population_data_female.head()"
      ],
      "execution_count": 32,
      "outputs": [
        {
          "output_type": "execute_result",
          "data": {
            "text/html": [
              "<div>\n",
              "<style scoped>\n",
              "    .dataframe tbody tr th:only-of-type {\n",
              "        vertical-align: middle;\n",
              "    }\n",
              "\n",
              "    .dataframe tbody tr th {\n",
              "        vertical-align: top;\n",
              "    }\n",
              "\n",
              "    .dataframe thead th {\n",
              "        text-align: right;\n",
              "    }\n",
              "</style>\n",
              "<table border=\"1\" class=\"dataframe\">\n",
              "  <thead>\n",
              "    <tr style=\"text-align: right;\">\n",
              "      <th></th>\n",
              "      <th>gss_code</th>\n",
              "      <th>borough</th>\n",
              "      <th>sex</th>\n",
              "      <th>age</th>\n",
              "      <th>ethnic_group</th>\n",
              "      <th>2011</th>\n",
              "      <th>2012</th>\n",
              "      <th>2013</th>\n",
              "      <th>2014</th>\n",
              "      <th>2015</th>\n",
              "      <th>2016</th>\n",
              "      <th>2017</th>\n",
              "      <th>2018</th>\n",
              "      <th>2019</th>\n",
              "      <th>2020</th>\n",
              "    </tr>\n",
              "  </thead>\n",
              "  <tbody>\n",
              "    <tr>\n",
              "      <th>113</th>\n",
              "      <td>E09000001</td>\n",
              "      <td>City of London</td>\n",
              "      <td>Female</td>\n",
              "      <td>21</td>\n",
              "      <td>White British</td>\n",
              "      <td>9</td>\n",
              "      <td>10</td>\n",
              "      <td>4</td>\n",
              "      <td>9</td>\n",
              "      <td>5</td>\n",
              "      <td>12</td>\n",
              "      <td>11</td>\n",
              "      <td>9</td>\n",
              "      <td>10</td>\n",
              "      <td>10</td>\n",
              "    </tr>\n",
              "    <tr>\n",
              "      <th>114</th>\n",
              "      <td>E09000001</td>\n",
              "      <td>City of London</td>\n",
              "      <td>Female</td>\n",
              "      <td>22</td>\n",
              "      <td>White British</td>\n",
              "      <td>15</td>\n",
              "      <td>11</td>\n",
              "      <td>10</td>\n",
              "      <td>9</td>\n",
              "      <td>15</td>\n",
              "      <td>11</td>\n",
              "      <td>13</td>\n",
              "      <td>13</td>\n",
              "      <td>13</td>\n",
              "      <td>13</td>\n",
              "    </tr>\n",
              "    <tr>\n",
              "      <th>115</th>\n",
              "      <td>E09000001</td>\n",
              "      <td>City of London</td>\n",
              "      <td>Female</td>\n",
              "      <td>23</td>\n",
              "      <td>White British</td>\n",
              "      <td>29</td>\n",
              "      <td>16</td>\n",
              "      <td>11</td>\n",
              "      <td>16</td>\n",
              "      <td>15</td>\n",
              "      <td>21</td>\n",
              "      <td>16</td>\n",
              "      <td>17</td>\n",
              "      <td>17</td>\n",
              "      <td>17</td>\n",
              "    </tr>\n",
              "    <tr>\n",
              "      <th>116</th>\n",
              "      <td>E09000001</td>\n",
              "      <td>City of London</td>\n",
              "      <td>Female</td>\n",
              "      <td>24</td>\n",
              "      <td>White British</td>\n",
              "      <td>28</td>\n",
              "      <td>25</td>\n",
              "      <td>16</td>\n",
              "      <td>7</td>\n",
              "      <td>17</td>\n",
              "      <td>17</td>\n",
              "      <td>20</td>\n",
              "      <td>19</td>\n",
              "      <td>19</td>\n",
              "      <td>19</td>\n",
              "    </tr>\n",
              "    <tr>\n",
              "      <th>117</th>\n",
              "      <td>E09000001</td>\n",
              "      <td>City of London</td>\n",
              "      <td>Female</td>\n",
              "      <td>25</td>\n",
              "      <td>White British</td>\n",
              "      <td>27</td>\n",
              "      <td>22</td>\n",
              "      <td>16</td>\n",
              "      <td>16</td>\n",
              "      <td>9</td>\n",
              "      <td>18</td>\n",
              "      <td>18</td>\n",
              "      <td>19</td>\n",
              "      <td>19</td>\n",
              "      <td>19</td>\n",
              "    </tr>\n",
              "  </tbody>\n",
              "</table>\n",
              "</div>"
            ],
            "text/plain": [
              "      gss_code         borough     sex age  ... 2017  2018  2019  2020\n",
              "113  E09000001  City of London  Female  21  ...   11     9    10    10\n",
              "114  E09000001  City of London  Female  22  ...   13    13    13    13\n",
              "115  E09000001  City of London  Female  23  ...   16    17    17    17\n",
              "116  E09000001  City of London  Female  24  ...   20    19    19    19\n",
              "117  E09000001  City of London  Female  25  ...   18    19    19    19\n",
              "\n",
              "[5 rows x 15 columns]"
            ]
          },
          "metadata": {
            "tags": []
          },
          "execution_count": 32
        }
      ]
    },
    {
      "cell_type": "code",
      "metadata": {
        "id": "Ym0u2obBl9Oh"
      },
      "source": [
        "population_data_female = population_data_female.replace(['Indian','Pakistani','Bangladeshi','Other Asian','Arab'],'Asian or Asian British')\n",
        "population_data_female = population_data_female.replace(['Black African','Black Caribbean','Other Black'],'Black or Black British')\n",
        "population_data_female = population_data_female.replace('Chinese','Chinese/Other')\n",
        "population_data_female = population_data_female.replace(['Other Mixed','White & Black Caribbean','White & Black African','White & Asian'],'Mixed')\n",
        "population_data_female = population_data_female.replace('Other Ethnic Group','Not Stated')\n",
        "population_data_female = population_data_female.replace(['White British','Other White','White Irish'],'White')"
      ],
      "execution_count": 33,
      "outputs": []
    },
    {
      "cell_type": "code",
      "metadata": {
        "colab": {
          "base_uri": "https://localhost:8080/"
        },
        "id": "VbtwagKUmayN",
        "outputId": "cfcc6307-da39-4020-f55e-38b5f3b66190"
      },
      "source": [
        "population_data_female['ethnic_group'].unique()"
      ],
      "execution_count": 34,
      "outputs": [
        {
          "output_type": "execute_result",
          "data": {
            "text/plain": [
              "array(['White', 'Mixed', 'Asian or Asian British', 'Chinese/Other',\n",
              "       'Black or Black British', 'Not Stated'], dtype=object)"
            ]
          },
          "metadata": {
            "tags": []
          },
          "execution_count": 34
        }
      ]
    },
    {
      "cell_type": "code",
      "metadata": {
        "colab": {
          "base_uri": "https://localhost:8080/",
          "height": 204
        },
        "id": "h78ViEcOmaIH",
        "outputId": "4ae5b426-bc79-4076-edab-7a05e507ff79"
      },
      "source": [
        "population_data_female_2017 = population_data_female.drop([2011,2012,2013,2014,2015,2016,2018,2019,2020], axis=1)\n",
        "population_data_female_2017.head()"
      ],
      "execution_count": 35,
      "outputs": [
        {
          "output_type": "execute_result",
          "data": {
            "text/html": [
              "<div>\n",
              "<style scoped>\n",
              "    .dataframe tbody tr th:only-of-type {\n",
              "        vertical-align: middle;\n",
              "    }\n",
              "\n",
              "    .dataframe tbody tr th {\n",
              "        vertical-align: top;\n",
              "    }\n",
              "\n",
              "    .dataframe thead th {\n",
              "        text-align: right;\n",
              "    }\n",
              "</style>\n",
              "<table border=\"1\" class=\"dataframe\">\n",
              "  <thead>\n",
              "    <tr style=\"text-align: right;\">\n",
              "      <th></th>\n",
              "      <th>gss_code</th>\n",
              "      <th>borough</th>\n",
              "      <th>sex</th>\n",
              "      <th>age</th>\n",
              "      <th>ethnic_group</th>\n",
              "      <th>2017</th>\n",
              "    </tr>\n",
              "  </thead>\n",
              "  <tbody>\n",
              "    <tr>\n",
              "      <th>113</th>\n",
              "      <td>E09000001</td>\n",
              "      <td>City of London</td>\n",
              "      <td>Female</td>\n",
              "      <td>21</td>\n",
              "      <td>White</td>\n",
              "      <td>11</td>\n",
              "    </tr>\n",
              "    <tr>\n",
              "      <th>114</th>\n",
              "      <td>E09000001</td>\n",
              "      <td>City of London</td>\n",
              "      <td>Female</td>\n",
              "      <td>22</td>\n",
              "      <td>White</td>\n",
              "      <td>13</td>\n",
              "    </tr>\n",
              "    <tr>\n",
              "      <th>115</th>\n",
              "      <td>E09000001</td>\n",
              "      <td>City of London</td>\n",
              "      <td>Female</td>\n",
              "      <td>23</td>\n",
              "      <td>White</td>\n",
              "      <td>16</td>\n",
              "    </tr>\n",
              "    <tr>\n",
              "      <th>116</th>\n",
              "      <td>E09000001</td>\n",
              "      <td>City of London</td>\n",
              "      <td>Female</td>\n",
              "      <td>24</td>\n",
              "      <td>White</td>\n",
              "      <td>20</td>\n",
              "    </tr>\n",
              "    <tr>\n",
              "      <th>117</th>\n",
              "      <td>E09000001</td>\n",
              "      <td>City of London</td>\n",
              "      <td>Female</td>\n",
              "      <td>25</td>\n",
              "      <td>White</td>\n",
              "      <td>18</td>\n",
              "    </tr>\n",
              "  </tbody>\n",
              "</table>\n",
              "</div>"
            ],
            "text/plain": [
              "      gss_code         borough     sex  age ethnic_group  2017\n",
              "113  E09000001  City of London  Female   21        White    11\n",
              "114  E09000001  City of London  Female   22        White    13\n",
              "115  E09000001  City of London  Female   23        White    16\n",
              "116  E09000001  City of London  Female   24        White    20\n",
              "117  E09000001  City of London  Female   25        White    18"
            ]
          },
          "metadata": {
            "tags": []
          },
          "execution_count": 35
        }
      ]
    },
    {
      "cell_type": "code",
      "metadata": {
        "colab": {
          "base_uri": "https://localhost:8080/",
          "height": 475
        },
        "id": "c38MvA1nmaDD",
        "outputId": "c6d5ba31-fe00-486c-e7dc-455e841c9a19"
      },
      "source": [
        "fig, ax = plt.subplots(figsize=(15,7))\n",
        "population_data_female_2017 = population_data_female_2017.groupby(['age', 'ethnic_group']).agg({2017:'sum'}).unstack().plot(ax=ax)\n",
        "plt.title(\"The age distribution of females over the age of 21 in 2017\")"
      ],
      "execution_count": 36,
      "outputs": [
        {
          "output_type": "execute_result",
          "data": {
            "text/plain": [
              "Text(0.5, 1.0, 'The age distribution of females over the age of 21 in 2017')"
            ]
          },
          "metadata": {
            "tags": []
          },
          "execution_count": 36
        },
        {
          "output_type": "display_data",
          "data": {
            "image/png": "[encoded data removed]",
            "text/plain": [
              "<Figure size 1080x504 with 1 Axes>"
            ]
          },
          "metadata": {
            "tags": [],
            "needs_background": "light"
          }
        }
      ]
    },
    {
      "cell_type": "code",
      "metadata": {
        "colab": {
          "base_uri": "https://localhost:8080/",
          "height": 204
        },
        "id": "BZ_te_GomZ7t",
        "outputId": "95d77c41-2fe4-4e36-9acf-d5d355df82c5"
      },
      "source": [
        "population_data_female_2016 = population_data_female.drop([2011,2012,2013,2014,2015,2017,2018,2019,2020], axis=1)\n",
        "population_data_female_2016.head()"
      ],
      "execution_count": 37,
      "outputs": [
        {
          "output_type": "execute_result",
          "data": {
            "text/html": [
              "<div>\n",
              "<style scoped>\n",
              "    .dataframe tbody tr th:only-of-type {\n",
              "        vertical-align: middle;\n",
              "    }\n",
              "\n",
              "    .dataframe tbody tr th {\n",
              "        vertical-align: top;\n",
              "    }\n",
              "\n",
              "    .dataframe thead th {\n",
              "        text-align: right;\n",
              "    }\n",
              "</style>\n",
              "<table border=\"1\" class=\"dataframe\">\n",
              "  <thead>\n",
              "    <tr style=\"text-align: right;\">\n",
              "      <th></th>\n",
              "      <th>gss_code</th>\n",
              "      <th>borough</th>\n",
              "      <th>sex</th>\n",
              "      <th>age</th>\n",
              "      <th>ethnic_group</th>\n",
              "      <th>2016</th>\n",
              "    </tr>\n",
              "  </thead>\n",
              "  <tbody>\n",
              "    <tr>\n",
              "      <th>113</th>\n",
              "      <td>E09000001</td>\n",
              "      <td>City of London</td>\n",
              "      <td>Female</td>\n",
              "      <td>21</td>\n",
              "      <td>White</td>\n",
              "      <td>12</td>\n",
              "    </tr>\n",
              "    <tr>\n",
              "      <th>114</th>\n",
              "      <td>E09000001</td>\n",
              "      <td>City of London</td>\n",
              "      <td>Female</td>\n",
              "      <td>22</td>\n",
              "      <td>White</td>\n",
              "      <td>11</td>\n",
              "    </tr>\n",
              "    <tr>\n",
              "      <th>115</th>\n",
              "      <td>E09000001</td>\n",
              "      <td>City of London</td>\n",
              "      <td>Female</td>\n",
              "      <td>23</td>\n",
              "      <td>White</td>\n",
              "      <td>21</td>\n",
              "    </tr>\n",
              "    <tr>\n",
              "      <th>116</th>\n",
              "      <td>E09000001</td>\n",
              "      <td>City of London</td>\n",
              "      <td>Female</td>\n",
              "      <td>24</td>\n",
              "      <td>White</td>\n",
              "      <td>17</td>\n",
              "    </tr>\n",
              "    <tr>\n",
              "      <th>117</th>\n",
              "      <td>E09000001</td>\n",
              "      <td>City of London</td>\n",
              "      <td>Female</td>\n",
              "      <td>25</td>\n",
              "      <td>White</td>\n",
              "      <td>18</td>\n",
              "    </tr>\n",
              "  </tbody>\n",
              "</table>\n",
              "</div>"
            ],
            "text/plain": [
              "      gss_code         borough     sex  age ethnic_group  2016\n",
              "113  E09000001  City of London  Female   21        White    12\n",
              "114  E09000001  City of London  Female   22        White    11\n",
              "115  E09000001  City of London  Female   23        White    21\n",
              "116  E09000001  City of London  Female   24        White    17\n",
              "117  E09000001  City of London  Female   25        White    18"
            ]
          },
          "metadata": {
            "tags": []
          },
          "execution_count": 37
        }
      ]
    },
    {
      "cell_type": "code",
      "metadata": {
        "colab": {
          "base_uri": "https://localhost:8080/",
          "height": 475
        },
        "id": "28Vn-mHcmZ0Z",
        "outputId": "8e6ecd97-f14a-4235-bec6-fd34b5013db8"
      },
      "source": [
        "fig, ax = plt.subplots(figsize=(15,7))\n",
        "population_data_female_2016 = population_data_female_2016.groupby(['age', 'ethnic_group']).agg({2016:'sum'}).unstack().plot(ax=ax)\n",
        "plt.title(\"The age distribution of females over the age of 21 in 2016\")"
      ],
      "execution_count": 38,
      "outputs": [
        {
          "output_type": "execute_result",
          "data": {
            "text/plain": [
              "Text(0.5, 1.0, 'The age distribution of females over the age of 21 in 2016')"
            ]
          },
          "metadata": {
            "tags": []
          },
          "execution_count": 38
        },
        {
          "output_type": "display_data",
          "data": {
            "image/png": "[encoded data removed]",
            "text/plain": [
              "<Figure size 1080x504 with 1 Axes>"
            ]
          },
          "metadata": {
            "tags": [],
            "needs_background": "light"
          }
        }
      ]
    },
    {
      "cell_type": "code",
      "metadata": {
        "id": "fbGTjKW0CyeA"
      },
      "source": [
        "from pandas_ods_reader import read_ods\n",
        "sheet_name = \"AOD_0607_1617\"\n",
        "\n",
        "crime_data = read_ods(\"arrests-open-data-tables-ppp.ods\", sheet_name)"
      ],
      "execution_count": 3,
      "outputs": []
    },
    {
      "cell_type": "code",
      "metadata": {
        "colab": {
          "base_uri": "https://localhost:8080/"
        },
        "id": "z4YMzhZgCyYh",
        "outputId": "12943d48-257d-4942-982a-607ff61eb718"
      },
      "source": [
        "pip install pandas_ods_reader"
      ],
      "execution_count": 2,
      "outputs": [
        {
          "output_type": "stream",
          "text": [
            "Collecting pandas_ods_reader\n",
            "  Downloading https://files.pythonhosted.org/packages/d9/f8/c1097f90411ec2cdfee9686c469a8acabff678185d761345975fc559c9fc/pandas_ods_reader-0.0.7-py3-none-any.whl\n",
            "Collecting ezodf\n",
            "\u001b[?25l  Downloading https://files.pythonhosted.org/packages/6f/c5/e966935c26d58d7e3d962270be61be972409084374d4093f478d1f82e8af/ezodf-0.3.2.tar.gz (125kB)\n",
            "\u001b[K     |████████████████████████████████| 133kB 5.0MB/s \n",
            "\u001b[?25hRequirement already satisfied: pandas in /usr/local/lib/python3.7/dist-packages (from pandas_ods_reader) (1.1.5)\n",
            "Requirement already satisfied: lxml in /usr/local/lib/python3.7/dist-packages (from pandas_ods_reader) (4.2.6)\n",
            "Requirement already satisfied: python-dateutil>=2.7.3 in /usr/local/lib/python3.7/dist-packages (from pandas->pandas_ods_reader) (2.8.1)\n",
            "Requirement already satisfied: pytz>=2017.2 in /usr/local/lib/python3.7/dist-packages (from pandas->pandas_ods_reader) (2018.9)\n",
            "Requirement already satisfied: numpy>=1.15.4 in /usr/local/lib/python3.7/dist-packages (from pandas->pandas_ods_reader) (1.19.5)\n",
            "Requirement already satisfied: six>=1.5 in /usr/local/lib/python3.7/dist-packages (from python-dateutil>=2.7.3->pandas->pandas_ods_reader) (1.15.0)\n",
            "Building wheels for collected packages: ezodf\n",
            "  Building wheel for ezodf (setup.py) ... \u001b[?25l\u001b[?25hdone\n",
            "  Created wheel for ezodf: filename=ezodf-0.3.2-py2.py3-none-any.whl size=49003 sha256=393d9812e41a1770677133cd62817254a07bef801d72ba91add15ad3adb9c009\n",
            "  Stored in directory: /root/.cache/pip/wheels/c9/6c/f9/107d39d45441980bf273757eba003ef057c6193c9d7650fac7\n",
            "Successfully built ezodf\n",
            "Installing collected packages: ezodf, pandas-ods-reader\n",
            "Successfully installed ezodf-0.3.2 pandas-ods-reader-0.0.7\n"
          ],
          "name": "stdout"
        }
      ]
    },
    {
      "cell_type": "code",
      "metadata": {
        "id": "DGb36ZLJCyTn",
        "colab": {
          "base_uri": "https://localhost:8080/",
          "height": 306
        },
        "outputId": "e0029c61-61da-4282-c04e-fe8046c1836e"
      },
      "source": [
        "crime_data.head()"
      ],
      "execution_count": 39,
      "outputs": [
        {
          "output_type": "execute_result",
          "data": {
            "text/html": [
              "<div>\n",
              "<style scoped>\n",
              "    .dataframe tbody tr th:only-of-type {\n",
              "        vertical-align: middle;\n",
              "    }\n",
              "\n",
              "    .dataframe tbody tr th {\n",
              "        vertical-align: top;\n",
              "    }\n",
              "\n",
              "    .dataframe thead th {\n",
              "        text-align: right;\n",
              "    }\n",
              "</style>\n",
              "<table border=\"1\" class=\"dataframe\">\n",
              "  <thead>\n",
              "    <tr style=\"text-align: right;\">\n",
              "      <th></th>\n",
              "      <th>Financial Year</th>\n",
              "      <th>Force Name</th>\n",
              "      <th>Reason for arrest \\n(offence group)</th>\n",
              "      <th>Ethnic Group (self-defined)</th>\n",
              "      <th>Age group</th>\n",
              "      <th>Sex</th>\n",
              "      <th>Arrests</th>\n",
              "    </tr>\n",
              "  </thead>\n",
              "  <tbody>\n",
              "    <tr>\n",
              "      <th>0</th>\n",
              "      <td>2006/07</td>\n",
              "      <td>Avon and Somerset</td>\n",
              "      <td>Burglary</td>\n",
              "      <td>Asian or Asian British</td>\n",
              "      <td>10 - 17 years</td>\n",
              "      <td>Female</td>\n",
              "      <td>0.0</td>\n",
              "    </tr>\n",
              "    <tr>\n",
              "      <th>1</th>\n",
              "      <td>2006/07</td>\n",
              "      <td>Avon and Somerset</td>\n",
              "      <td>Burglary</td>\n",
              "      <td>Asian or Asian British</td>\n",
              "      <td>10 - 17 years</td>\n",
              "      <td>Male</td>\n",
              "      <td>4.0</td>\n",
              "    </tr>\n",
              "    <tr>\n",
              "      <th>2</th>\n",
              "      <td>2006/07</td>\n",
              "      <td>Avon and Somerset</td>\n",
              "      <td>Burglary</td>\n",
              "      <td>Asian or Asian British</td>\n",
              "      <td>18 - 20 years</td>\n",
              "      <td>Female</td>\n",
              "      <td>0.0</td>\n",
              "    </tr>\n",
              "    <tr>\n",
              "      <th>3</th>\n",
              "      <td>2006/07</td>\n",
              "      <td>Avon and Somerset</td>\n",
              "      <td>Burglary</td>\n",
              "      <td>Asian or Asian British</td>\n",
              "      <td>18 - 20 years</td>\n",
              "      <td>Male</td>\n",
              "      <td>4.0</td>\n",
              "    </tr>\n",
              "    <tr>\n",
              "      <th>4</th>\n",
              "      <td>2006/07</td>\n",
              "      <td>Avon and Somerset</td>\n",
              "      <td>Burglary</td>\n",
              "      <td>Asian or Asian British</td>\n",
              "      <td>21 years and over</td>\n",
              "      <td>Female</td>\n",
              "      <td>1.0</td>\n",
              "    </tr>\n",
              "  </tbody>\n",
              "</table>\n",
              "</div>"
            ],
            "text/plain": [
              "  Financial Year         Force Name  ...     Sex Arrests\n",
              "0        2006/07  Avon and Somerset  ...  Female     0.0\n",
              "1        2006/07  Avon and Somerset  ...    Male     4.0\n",
              "2        2006/07  Avon and Somerset  ...  Female     0.0\n",
              "3        2006/07  Avon and Somerset  ...    Male     4.0\n",
              "4        2006/07  Avon and Somerset  ...  Female     1.0\n",
              "\n",
              "[5 rows x 7 columns]"
            ]
          },
          "metadata": {
            "tags": []
          },
          "execution_count": 39
        }
      ]
    },
    {
      "cell_type": "code",
      "metadata": {
        "colab": {
          "base_uri": "https://localhost:8080/"
        },
        "id": "5B3KXJLhRvFf",
        "outputId": "df1f654e-d415-4b42-9f3e-24067a5c69f1"
      },
      "source": [
        "crime_data['Force Name'].unique()"
      ],
      "execution_count": 40,
      "outputs": [
        {
          "output_type": "execute_result",
          "data": {
            "text/plain": [
              "array(['Avon and Somerset', 'Bedfordshire', 'Cambridgeshire', 'Cheshire',\n",
              "       'Cleveland', 'Cumbria', 'Derbyshire', 'Devon and Cornwall',\n",
              "       'Dorset', 'Durham', 'Dyfed-Powys', 'Essex', 'Gloucestershire',\n",
              "       'Greater Manchester', 'Gwent', 'Hampshire', 'Hertfordshire',\n",
              "       'Humberside', 'Kent', 'Lancashire', 'Leicestershire',\n",
              "       'Lincolnshire', 'London, City of', 'Merseyside',\n",
              "       'Metropolitan Police', 'Norfolk', 'North Wales', 'North Yorkshire',\n",
              "       'Northamptonshire', 'Northumbria', 'Nottinghamshire',\n",
              "       'South Wales', 'South Yorkshire', 'Staffordshire', 'Suffolk',\n",
              "       'Surrey', 'Sussex', 'Thames Valley', 'Warwickshire', 'West Mercia',\n",
              "       'West Midlands', 'West Yorkshire', 'Wiltshire'], dtype=object)"
            ]
          },
          "metadata": {
            "tags": []
          },
          "execution_count": 40
        }
      ]
    },
    {
      "cell_type": "code",
      "metadata": {
        "id": "syXSh4VZRu7J"
      },
      "source": [
        "crime_data1 = crime_data.loc[(crime_data['Force Name'] == 'London, City of') | (crime_data['Force Name'] == 'Metropolitan Police')]"
      ],
      "execution_count": 41,
      "outputs": []
    },
    {
      "cell_type": "code",
      "metadata": {
        "colab": {
          "base_uri": "https://localhost:8080/"
        },
        "id": "575Ceu-wRu0K",
        "outputId": "cbe98f6e-6dd6-467a-cef0-db6d5d6c5d37"
      },
      "source": [
        "crime_data1['Force Name'].unique()"
      ],
      "execution_count": 42,
      "outputs": [
        {
          "output_type": "execute_result",
          "data": {
            "text/plain": [
              "array(['London, City of', 'Metropolitan Police'], dtype=object)"
            ]
          },
          "metadata": {
            "tags": []
          },
          "execution_count": 42
        }
      ]
    },
    {
      "cell_type": "code",
      "metadata": {
        "colab": {
          "base_uri": "https://localhost:8080/"
        },
        "id": "Do6s5qtbX4Ab",
        "outputId": "1898e3bf-1000-4784-e685-0dc24e9edb6c"
      },
      "source": [
        "crime_data1['Age group'].unique()"
      ],
      "execution_count": 43,
      "outputs": [
        {
          "output_type": "execute_result",
          "data": {
            "text/plain": [
              "array(['10 - 17 years', '18 - 20 years', '21 years and over',\n",
              "       'under 10 years', 'Unknown', 'unknown', 'Under 10 years'],\n",
              "      dtype=object)"
            ]
          },
          "metadata": {
            "tags": []
          },
          "execution_count": 43
        }
      ]
    },
    {
      "cell_type": "code",
      "metadata": {
        "id": "ajPKlybJRuvU"
      },
      "source": [
        "crime_data1 = crime_data1.loc[crime_data1['Age group'] == '21 years and over']"
      ],
      "execution_count": 44,
      "outputs": []
    },
    {
      "cell_type": "code",
      "metadata": {
        "colab": {
          "base_uri": "https://localhost:8080/",
          "height": 306
        },
        "id": "ZWF590yTRupf",
        "outputId": "9f07f3f8-99dd-4f0f-ce24-8a804758b9a7"
      },
      "source": [
        "crime_data1.head()"
      ],
      "execution_count": 45,
      "outputs": [
        {
          "output_type": "execute_result",
          "data": {
            "text/html": [
              "<div>\n",
              "<style scoped>\n",
              "    .dataframe tbody tr th:only-of-type {\n",
              "        vertical-align: middle;\n",
              "    }\n",
              "\n",
              "    .dataframe tbody tr th {\n",
              "        vertical-align: top;\n",
              "    }\n",
              "\n",
              "    .dataframe thead th {\n",
              "        text-align: right;\n",
              "    }\n",
              "</style>\n",
              "<table border=\"1\" class=\"dataframe\">\n",
              "  <thead>\n",
              "    <tr style=\"text-align: right;\">\n",
              "      <th></th>\n",
              "      <th>Financial Year</th>\n",
              "      <th>Force Name</th>\n",
              "      <th>Reason for arrest \\n(offence group)</th>\n",
              "      <th>Ethnic Group (self-defined)</th>\n",
              "      <th>Age group</th>\n",
              "      <th>Sex</th>\n",
              "      <th>Arrests</th>\n",
              "    </tr>\n",
              "  </thead>\n",
              "  <tbody>\n",
              "    <tr>\n",
              "      <th>11884</th>\n",
              "      <td>2006/07</td>\n",
              "      <td>London, City of</td>\n",
              "      <td>Burglary</td>\n",
              "      <td>Asian or Asian British</td>\n",
              "      <td>21 years and over</td>\n",
              "      <td>Female</td>\n",
              "      <td>0.0</td>\n",
              "    </tr>\n",
              "    <tr>\n",
              "      <th>11885</th>\n",
              "      <td>2006/07</td>\n",
              "      <td>London, City of</td>\n",
              "      <td>Burglary</td>\n",
              "      <td>Asian or Asian British</td>\n",
              "      <td>21 years and over</td>\n",
              "      <td>Male</td>\n",
              "      <td>4.0</td>\n",
              "    </tr>\n",
              "    <tr>\n",
              "      <th>11894</th>\n",
              "      <td>2006/07</td>\n",
              "      <td>London, City of</td>\n",
              "      <td>Burglary</td>\n",
              "      <td>Black or Black British</td>\n",
              "      <td>21 years and over</td>\n",
              "      <td>Female</td>\n",
              "      <td>1.0</td>\n",
              "    </tr>\n",
              "    <tr>\n",
              "      <th>11895</th>\n",
              "      <td>2006/07</td>\n",
              "      <td>London, City of</td>\n",
              "      <td>Burglary</td>\n",
              "      <td>Black or Black British</td>\n",
              "      <td>21 years and over</td>\n",
              "      <td>Male</td>\n",
              "      <td>19.0</td>\n",
              "    </tr>\n",
              "    <tr>\n",
              "      <th>11904</th>\n",
              "      <td>2006/07</td>\n",
              "      <td>London, City of</td>\n",
              "      <td>Burglary</td>\n",
              "      <td>Chinese/other</td>\n",
              "      <td>21 years and over</td>\n",
              "      <td>Female</td>\n",
              "      <td>0.0</td>\n",
              "    </tr>\n",
              "  </tbody>\n",
              "</table>\n",
              "</div>"
            ],
            "text/plain": [
              "      Financial Year       Force Name  ...     Sex Arrests\n",
              "11884        2006/07  London, City of  ...  Female     0.0\n",
              "11885        2006/07  London, City of  ...    Male     4.0\n",
              "11894        2006/07  London, City of  ...  Female     1.0\n",
              "11895        2006/07  London, City of  ...    Male    19.0\n",
              "11904        2006/07  London, City of  ...  Female     0.0\n",
              "\n",
              "[5 rows x 7 columns]"
            ]
          },
          "metadata": {
            "tags": []
          },
          "execution_count": 45
        }
      ]
    },
    {
      "cell_type": "code",
      "metadata": {
        "colab": {
          "base_uri": "https://localhost:8080/"
        },
        "id": "nJsJ-G3U1lho",
        "outputId": "cee2f8cb-d377-4fbe-9bcd-885253d9750e"
      },
      "source": [
        "print('null values for transactoins ?',crime_data1.isnull().values.any())"
      ],
      "execution_count": 46,
      "outputs": [
        {
          "output_type": "stream",
          "text": [
            "null values for transactoins ? False\n"
          ],
          "name": "stdout"
        }
      ]
    },
    {
      "cell_type": "code",
      "metadata": {
        "colab": {
          "base_uri": "https://localhost:8080/"
        },
        "id": "a15Wsi8qRudE",
        "outputId": "34c56b75-21cb-4735-f525-504188f77035"
      },
      "source": [
        "crime_data1['Financial Year'].unique()"
      ],
      "execution_count": 47,
      "outputs": [
        {
          "output_type": "execute_result",
          "data": {
            "text/plain": [
              "array(['2006/07', '2007/08', '2008/09', '2009/10', '2010/11', '2011/12',\n",
              "       '2012/13', '2013/14', '2014/15', '2015/16', '2016/17'],\n",
              "      dtype=object)"
            ]
          },
          "metadata": {
            "tags": []
          },
          "execution_count": 47
        }
      ]
    },
    {
      "cell_type": "code",
      "metadata": {
        "colab": {
          "base_uri": "https://localhost:8080/"
        },
        "id": "mJXd2rViclsI",
        "outputId": "1166a714-e295-46d2-b517-7e5e37c942bb"
      },
      "source": [
        "crime_data1['Ethnic Group (self-defined)'].unique()"
      ],
      "execution_count": 48,
      "outputs": [
        {
          "output_type": "execute_result",
          "data": {
            "text/plain": [
              "array(['Asian or Asian British', 'Black or Black British',\n",
              "       'Chinese/other', 'Mixed', 'Not stated', 'White', 'Chinese/Other'],\n",
              "      dtype=object)"
            ]
          },
          "metadata": {
            "tags": []
          },
          "execution_count": 48
        }
      ]
    },
    {
      "cell_type": "code",
      "metadata": {
        "colab": {
          "base_uri": "https://localhost:8080/"
        },
        "id": "1XuEgFVvBcSY",
        "outputId": "f1727696-50f9-45d8-9954-83b0ca500e87"
      },
      "source": [
        "crime_data1 = crime_data1.replace('Chinese/other', 'Chinese/Other')\n",
        "crime_data1['Ethnic Group (self-defined)'].unique()"
      ],
      "execution_count": 49,
      "outputs": [
        {
          "output_type": "execute_result",
          "data": {
            "text/plain": [
              "array(['Asian or Asian British', 'Black or Black British',\n",
              "       'Chinese/Other', 'Mixed', 'Not stated', 'White'], dtype=object)"
            ]
          },
          "metadata": {
            "tags": []
          },
          "execution_count": 49
        }
      ]
    },
    {
      "cell_type": "code",
      "metadata": {
        "id": "EoLrg2LSyNJK"
      },
      "source": [
        "crime_data1_female = crime_data1[crime_data1['Sex'] == 'Female']"
      ],
      "execution_count": 50,
      "outputs": []
    },
    {
      "cell_type": "code",
      "metadata": {
        "colab": {
          "base_uri": "https://localhost:8080/",
          "height": 306
        },
        "id": "OcGVRgDSysgA",
        "outputId": "c48aa7f0-68e6-442e-ec1f-bde2fb187c65"
      },
      "source": [
        "crime_data1_female.head()"
      ],
      "execution_count": 51,
      "outputs": [
        {
          "output_type": "execute_result",
          "data": {
            "text/html": [
              "<div>\n",
              "<style scoped>\n",
              "    .dataframe tbody tr th:only-of-type {\n",
              "        vertical-align: middle;\n",
              "    }\n",
              "\n",
              "    .dataframe tbody tr th {\n",
              "        vertical-align: top;\n",
              "    }\n",
              "\n",
              "    .dataframe thead th {\n",
              "        text-align: right;\n",
              "    }\n",
              "</style>\n",
              "<table border=\"1\" class=\"dataframe\">\n",
              "  <thead>\n",
              "    <tr style=\"text-align: right;\">\n",
              "      <th></th>\n",
              "      <th>Financial Year</th>\n",
              "      <th>Force Name</th>\n",
              "      <th>Reason for arrest \\n(offence group)</th>\n",
              "      <th>Ethnic Group (self-defined)</th>\n",
              "      <th>Age group</th>\n",
              "      <th>Sex</th>\n",
              "      <th>Arrests</th>\n",
              "    </tr>\n",
              "  </thead>\n",
              "  <tbody>\n",
              "    <tr>\n",
              "      <th>11884</th>\n",
              "      <td>2006/07</td>\n",
              "      <td>London, City of</td>\n",
              "      <td>Burglary</td>\n",
              "      <td>Asian or Asian British</td>\n",
              "      <td>21 years and over</td>\n",
              "      <td>Female</td>\n",
              "      <td>0.0</td>\n",
              "    </tr>\n",
              "    <tr>\n",
              "      <th>11894</th>\n",
              "      <td>2006/07</td>\n",
              "      <td>London, City of</td>\n",
              "      <td>Burglary</td>\n",
              "      <td>Black or Black British</td>\n",
              "      <td>21 years and over</td>\n",
              "      <td>Female</td>\n",
              "      <td>1.0</td>\n",
              "    </tr>\n",
              "    <tr>\n",
              "      <th>11904</th>\n",
              "      <td>2006/07</td>\n",
              "      <td>London, City of</td>\n",
              "      <td>Burglary</td>\n",
              "      <td>Chinese/Other</td>\n",
              "      <td>21 years and over</td>\n",
              "      <td>Female</td>\n",
              "      <td>0.0</td>\n",
              "    </tr>\n",
              "    <tr>\n",
              "      <th>11914</th>\n",
              "      <td>2006/07</td>\n",
              "      <td>London, City of</td>\n",
              "      <td>Burglary</td>\n",
              "      <td>Mixed</td>\n",
              "      <td>21 years and over</td>\n",
              "      <td>Female</td>\n",
              "      <td>1.0</td>\n",
              "    </tr>\n",
              "    <tr>\n",
              "      <th>11924</th>\n",
              "      <td>2006/07</td>\n",
              "      <td>London, City of</td>\n",
              "      <td>Burglary</td>\n",
              "      <td>Not stated</td>\n",
              "      <td>21 years and over</td>\n",
              "      <td>Female</td>\n",
              "      <td>0.0</td>\n",
              "    </tr>\n",
              "  </tbody>\n",
              "</table>\n",
              "</div>"
            ],
            "text/plain": [
              "      Financial Year       Force Name  ...     Sex Arrests\n",
              "11884        2006/07  London, City of  ...  Female     0.0\n",
              "11894        2006/07  London, City of  ...  Female     1.0\n",
              "11904        2006/07  London, City of  ...  Female     0.0\n",
              "11914        2006/07  London, City of  ...  Female     1.0\n",
              "11924        2006/07  London, City of  ...  Female     0.0\n",
              "\n",
              "[5 rows x 7 columns]"
            ]
          },
          "metadata": {
            "tags": []
          },
          "execution_count": 51
        }
      ]
    },
    {
      "cell_type": "code",
      "metadata": {
        "id": "2-dg_w-iy0y0"
      },
      "source": [
        "crime_data1_male = crime_data1[crime_data1['Sex'] == 'Male']"
      ],
      "execution_count": 52,
      "outputs": []
    },
    {
      "cell_type": "code",
      "metadata": {
        "colab": {
          "base_uri": "https://localhost:8080/",
          "height": 306
        },
        "id": "yLX4i4oby92P",
        "outputId": "fad482ff-589c-4199-83e0-5d47674d5452"
      },
      "source": [
        "crime_data1_male.head()"
      ],
      "execution_count": 53,
      "outputs": [
        {
          "output_type": "execute_result",
          "data": {
            "text/html": [
              "<div>\n",
              "<style scoped>\n",
              "    .dataframe tbody tr th:only-of-type {\n",
              "        vertical-align: middle;\n",
              "    }\n",
              "\n",
              "    .dataframe tbody tr th {\n",
              "        vertical-align: top;\n",
              "    }\n",
              "\n",
              "    .dataframe thead th {\n",
              "        text-align: right;\n",
              "    }\n",
              "</style>\n",
              "<table border=\"1\" class=\"dataframe\">\n",
              "  <thead>\n",
              "    <tr style=\"text-align: right;\">\n",
              "      <th></th>\n",
              "      <th>Financial Year</th>\n",
              "      <th>Force Name</th>\n",
              "      <th>Reason for arrest \\n(offence group)</th>\n",
              "      <th>Ethnic Group (self-defined)</th>\n",
              "      <th>Age group</th>\n",
              "      <th>Sex</th>\n",
              "      <th>Arrests</th>\n",
              "    </tr>\n",
              "  </thead>\n",
              "  <tbody>\n",
              "    <tr>\n",
              "      <th>11885</th>\n",
              "      <td>2006/07</td>\n",
              "      <td>London, City of</td>\n",
              "      <td>Burglary</td>\n",
              "      <td>Asian or Asian British</td>\n",
              "      <td>21 years and over</td>\n",
              "      <td>Male</td>\n",
              "      <td>4.0</td>\n",
              "    </tr>\n",
              "    <tr>\n",
              "      <th>11895</th>\n",
              "      <td>2006/07</td>\n",
              "      <td>London, City of</td>\n",
              "      <td>Burglary</td>\n",
              "      <td>Black or Black British</td>\n",
              "      <td>21 years and over</td>\n",
              "      <td>Male</td>\n",
              "      <td>19.0</td>\n",
              "    </tr>\n",
              "    <tr>\n",
              "      <th>11905</th>\n",
              "      <td>2006/07</td>\n",
              "      <td>London, City of</td>\n",
              "      <td>Burglary</td>\n",
              "      <td>Chinese/Other</td>\n",
              "      <td>21 years and over</td>\n",
              "      <td>Male</td>\n",
              "      <td>3.0</td>\n",
              "    </tr>\n",
              "    <tr>\n",
              "      <th>11915</th>\n",
              "      <td>2006/07</td>\n",
              "      <td>London, City of</td>\n",
              "      <td>Burglary</td>\n",
              "      <td>Mixed</td>\n",
              "      <td>21 years and over</td>\n",
              "      <td>Male</td>\n",
              "      <td>5.0</td>\n",
              "    </tr>\n",
              "    <tr>\n",
              "      <th>11925</th>\n",
              "      <td>2006/07</td>\n",
              "      <td>London, City of</td>\n",
              "      <td>Burglary</td>\n",
              "      <td>Not stated</td>\n",
              "      <td>21 years and over</td>\n",
              "      <td>Male</td>\n",
              "      <td>7.0</td>\n",
              "    </tr>\n",
              "  </tbody>\n",
              "</table>\n",
              "</div>"
            ],
            "text/plain": [
              "      Financial Year       Force Name  ...   Sex Arrests\n",
              "11885        2006/07  London, City of  ...  Male     4.0\n",
              "11895        2006/07  London, City of  ...  Male    19.0\n",
              "11905        2006/07  London, City of  ...  Male     3.0\n",
              "11915        2006/07  London, City of  ...  Male     5.0\n",
              "11925        2006/07  London, City of  ...  Male     7.0\n",
              "\n",
              "[5 rows x 7 columns]"
            ]
          },
          "metadata": {
            "tags": []
          },
          "execution_count": 53
        }
      ]
    },
    {
      "cell_type": "code",
      "metadata": {
        "colab": {
          "base_uri": "https://localhost:8080/",
          "height": 314
        },
        "id": "m2MnahMRqwGN",
        "outputId": "e207e3b5-9603-458b-f67e-804dd8a890f7"
      },
      "source": [
        "crime_data1_female_group = crime_data1_female.groupby(['Ethnic Group (self-defined)','Financial Year']).agg({'Arrests':'sum'}).unstack()\n",
        "crime_data1_female_group"
      ],
      "execution_count": 54,
      "outputs": [
        {
          "output_type": "execute_result",
          "data": {
            "text/html": [
              "<div>\n",
              "<style scoped>\n",
              "    .dataframe tbody tr th:only-of-type {\n",
              "        vertical-align: middle;\n",
              "    }\n",
              "\n",
              "    .dataframe tbody tr th {\n",
              "        vertical-align: top;\n",
              "    }\n",
              "\n",
              "    .dataframe thead tr th {\n",
              "        text-align: left;\n",
              "    }\n",
              "\n",
              "    .dataframe thead tr:last-of-type th {\n",
              "        text-align: right;\n",
              "    }\n",
              "</style>\n",
              "<table border=\"1\" class=\"dataframe\">\n",
              "  <thead>\n",
              "    <tr>\n",
              "      <th></th>\n",
              "      <th colspan=\"11\" halign=\"left\">Arrests</th>\n",
              "    </tr>\n",
              "    <tr>\n",
              "      <th>Financial Year</th>\n",
              "      <th>2006/07</th>\n",
              "      <th>2007/08</th>\n",
              "      <th>2008/09</th>\n",
              "      <th>2009/10</th>\n",
              "      <th>2010/11</th>\n",
              "      <th>2011/12</th>\n",
              "      <th>2012/13</th>\n",
              "      <th>2013/14</th>\n",
              "      <th>2014/15</th>\n",
              "      <th>2015/16</th>\n",
              "      <th>2016/17</th>\n",
              "    </tr>\n",
              "    <tr>\n",
              "      <th>Ethnic Group (self-defined)</th>\n",
              "      <th></th>\n",
              "      <th></th>\n",
              "      <th></th>\n",
              "      <th></th>\n",
              "      <th></th>\n",
              "      <th></th>\n",
              "      <th></th>\n",
              "      <th></th>\n",
              "      <th></th>\n",
              "      <th></th>\n",
              "      <th></th>\n",
              "    </tr>\n",
              "  </thead>\n",
              "  <tbody>\n",
              "    <tr>\n",
              "      <th>Asian or Asian British</th>\n",
              "      <td>1245.0</td>\n",
              "      <td>1436.0</td>\n",
              "      <td>1702.0</td>\n",
              "      <td>1966.0</td>\n",
              "      <td>2195.0</td>\n",
              "      <td>2035.0</td>\n",
              "      <td>1905.0</td>\n",
              "      <td>1924.0</td>\n",
              "      <td>1949.0</td>\n",
              "      <td>1933.0</td>\n",
              "      <td>1426.0</td>\n",
              "    </tr>\n",
              "    <tr>\n",
              "      <th>Black or Black British</th>\n",
              "      <td>5019.0</td>\n",
              "      <td>5193.0</td>\n",
              "      <td>5950.0</td>\n",
              "      <td>6704.0</td>\n",
              "      <td>6967.0</td>\n",
              "      <td>5862.0</td>\n",
              "      <td>5261.0</td>\n",
              "      <td>5174.0</td>\n",
              "      <td>5226.0</td>\n",
              "      <td>5089.0</td>\n",
              "      <td>3856.0</td>\n",
              "    </tr>\n",
              "    <tr>\n",
              "      <th>Chinese/Other</th>\n",
              "      <td>993.0</td>\n",
              "      <td>1041.0</td>\n",
              "      <td>1017.0</td>\n",
              "      <td>1261.0</td>\n",
              "      <td>1293.0</td>\n",
              "      <td>1032.0</td>\n",
              "      <td>923.0</td>\n",
              "      <td>935.0</td>\n",
              "      <td>871.0</td>\n",
              "      <td>855.0</td>\n",
              "      <td>710.0</td>\n",
              "    </tr>\n",
              "    <tr>\n",
              "      <th>Mixed</th>\n",
              "      <td>1100.0</td>\n",
              "      <td>1135.0</td>\n",
              "      <td>1223.0</td>\n",
              "      <td>1420.0</td>\n",
              "      <td>1585.0</td>\n",
              "      <td>1424.0</td>\n",
              "      <td>1297.0</td>\n",
              "      <td>1324.0</td>\n",
              "      <td>1370.0</td>\n",
              "      <td>1401.0</td>\n",
              "      <td>1061.0</td>\n",
              "    </tr>\n",
              "    <tr>\n",
              "      <th>Not stated</th>\n",
              "      <td>678.0</td>\n",
              "      <td>764.0</td>\n",
              "      <td>880.0</td>\n",
              "      <td>1029.0</td>\n",
              "      <td>1089.0</td>\n",
              "      <td>931.0</td>\n",
              "      <td>853.0</td>\n",
              "      <td>798.0</td>\n",
              "      <td>783.0</td>\n",
              "      <td>870.0</td>\n",
              "      <td>703.0</td>\n",
              "    </tr>\n",
              "    <tr>\n",
              "      <th>White</th>\n",
              "      <td>11719.0</td>\n",
              "      <td>11887.0</td>\n",
              "      <td>13311.0</td>\n",
              "      <td>14367.0</td>\n",
              "      <td>15585.0</td>\n",
              "      <td>14258.0</td>\n",
              "      <td>12637.0</td>\n",
              "      <td>13206.0</td>\n",
              "      <td>13190.0</td>\n",
              "      <td>12689.0</td>\n",
              "      <td>9783.0</td>\n",
              "    </tr>\n",
              "  </tbody>\n",
              "</table>\n",
              "</div>"
            ],
            "text/plain": [
              "                             Arrests           ...                 \n",
              "Financial Year               2006/07  2007/08  ...  2015/16 2016/17\n",
              "Ethnic Group (self-defined)                    ...                 \n",
              "Asian or Asian British        1245.0   1436.0  ...   1933.0  1426.0\n",
              "Black or Black British        5019.0   5193.0  ...   5089.0  3856.0\n",
              "Chinese/Other                  993.0   1041.0  ...    855.0   710.0\n",
              "Mixed                         1100.0   1135.0  ...   1401.0  1061.0\n",
              "Not stated                     678.0    764.0  ...    870.0   703.0\n",
              "White                        11719.0  11887.0  ...  12689.0  9783.0\n",
              "\n",
              "[6 rows x 11 columns]"
            ]
          },
          "metadata": {
            "tags": []
          },
          "execution_count": 54
        }
      ]
    },
    {
      "cell_type": "code",
      "metadata": {
        "colab": {
          "base_uri": "https://localhost:8080/",
          "height": 314
        },
        "id": "FCs-9OpGqvlB",
        "outputId": "17a01d73-c8bf-4ded-a708-cd81b82afb8c"
      },
      "source": [
        "crime_data1_male_group = crime_data1_male.groupby(['Ethnic Group (self-defined)','Financial Year']).agg({'Arrests':'sum'}).unstack()\n",
        "crime_data1_male_group"
      ],
      "execution_count": 55,
      "outputs": [
        {
          "output_type": "execute_result",
          "data": {
            "text/html": [
              "<div>\n",
              "<style scoped>\n",
              "    .dataframe tbody tr th:only-of-type {\n",
              "        vertical-align: middle;\n",
              "    }\n",
              "\n",
              "    .dataframe tbody tr th {\n",
              "        vertical-align: top;\n",
              "    }\n",
              "\n",
              "    .dataframe thead tr th {\n",
              "        text-align: left;\n",
              "    }\n",
              "\n",
              "    .dataframe thead tr:last-of-type th {\n",
              "        text-align: right;\n",
              "    }\n",
              "</style>\n",
              "<table border=\"1\" class=\"dataframe\">\n",
              "  <thead>\n",
              "    <tr>\n",
              "      <th></th>\n",
              "      <th colspan=\"11\" halign=\"left\">Arrests</th>\n",
              "    </tr>\n",
              "    <tr>\n",
              "      <th>Financial Year</th>\n",
              "      <th>2006/07</th>\n",
              "      <th>2007/08</th>\n",
              "      <th>2008/09</th>\n",
              "      <th>2009/10</th>\n",
              "      <th>2010/11</th>\n",
              "      <th>2011/12</th>\n",
              "      <th>2012/13</th>\n",
              "      <th>2013/14</th>\n",
              "      <th>2014/15</th>\n",
              "      <th>2015/16</th>\n",
              "      <th>2016/17</th>\n",
              "    </tr>\n",
              "    <tr>\n",
              "      <th>Ethnic Group (self-defined)</th>\n",
              "      <th></th>\n",
              "      <th></th>\n",
              "      <th></th>\n",
              "      <th></th>\n",
              "      <th></th>\n",
              "      <th></th>\n",
              "      <th></th>\n",
              "      <th></th>\n",
              "      <th></th>\n",
              "      <th></th>\n",
              "      <th></th>\n",
              "    </tr>\n",
              "  </thead>\n",
              "  <tbody>\n",
              "    <tr>\n",
              "      <th>Asian or Asian British</th>\n",
              "      <td>13667.0</td>\n",
              "      <td>14632.0</td>\n",
              "      <td>16339.0</td>\n",
              "      <td>18283.0</td>\n",
              "      <td>21596.0</td>\n",
              "      <td>19832.0</td>\n",
              "      <td>18520.0</td>\n",
              "      <td>18880.0</td>\n",
              "      <td>18635.0</td>\n",
              "      <td>19073.0</td>\n",
              "      <td>14533.0</td>\n",
              "    </tr>\n",
              "    <tr>\n",
              "      <th>Black or Black British</th>\n",
              "      <td>30361.0</td>\n",
              "      <td>31682.0</td>\n",
              "      <td>33987.0</td>\n",
              "      <td>35199.0</td>\n",
              "      <td>38343.0</td>\n",
              "      <td>35542.0</td>\n",
              "      <td>32013.0</td>\n",
              "      <td>31562.0</td>\n",
              "      <td>30858.0</td>\n",
              "      <td>31072.0</td>\n",
              "      <td>25798.0</td>\n",
              "    </tr>\n",
              "    <tr>\n",
              "      <th>Chinese/Other</th>\n",
              "      <td>6214.0</td>\n",
              "      <td>5656.0</td>\n",
              "      <td>5412.0</td>\n",
              "      <td>5853.0</td>\n",
              "      <td>6366.0</td>\n",
              "      <td>5693.0</td>\n",
              "      <td>5170.0</td>\n",
              "      <td>5230.0</td>\n",
              "      <td>4969.0</td>\n",
              "      <td>5060.0</td>\n",
              "      <td>4095.0</td>\n",
              "    </tr>\n",
              "    <tr>\n",
              "      <th>Mixed</th>\n",
              "      <td>5121.0</td>\n",
              "      <td>4882.0</td>\n",
              "      <td>5123.0</td>\n",
              "      <td>5684.0</td>\n",
              "      <td>6556.0</td>\n",
              "      <td>6340.0</td>\n",
              "      <td>6026.0</td>\n",
              "      <td>5880.0</td>\n",
              "      <td>5820.0</td>\n",
              "      <td>6123.0</td>\n",
              "      <td>4946.0</td>\n",
              "    </tr>\n",
              "    <tr>\n",
              "      <th>Not stated</th>\n",
              "      <td>3929.0</td>\n",
              "      <td>4381.0</td>\n",
              "      <td>5101.0</td>\n",
              "      <td>5374.0</td>\n",
              "      <td>5663.0</td>\n",
              "      <td>5031.0</td>\n",
              "      <td>4598.0</td>\n",
              "      <td>4360.0</td>\n",
              "      <td>4108.0</td>\n",
              "      <td>4342.0</td>\n",
              "      <td>3840.0</td>\n",
              "    </tr>\n",
              "    <tr>\n",
              "      <th>White</th>\n",
              "      <td>62544.0</td>\n",
              "      <td>63768.0</td>\n",
              "      <td>68947.0</td>\n",
              "      <td>72319.0</td>\n",
              "      <td>79496.0</td>\n",
              "      <td>73718.0</td>\n",
              "      <td>67798.0</td>\n",
              "      <td>67781.0</td>\n",
              "      <td>64184.0</td>\n",
              "      <td>62101.0</td>\n",
              "      <td>48660.0</td>\n",
              "    </tr>\n",
              "  </tbody>\n",
              "</table>\n",
              "</div>"
            ],
            "text/plain": [
              "                             Arrests           ...                  \n",
              "Financial Year               2006/07  2007/08  ...  2015/16  2016/17\n",
              "Ethnic Group (self-defined)                    ...                  \n",
              "Asian or Asian British       13667.0  14632.0  ...  19073.0  14533.0\n",
              "Black or Black British       30361.0  31682.0  ...  31072.0  25798.0\n",
              "Chinese/Other                 6214.0   5656.0  ...   5060.0   4095.0\n",
              "Mixed                         5121.0   4882.0  ...   6123.0   4946.0\n",
              "Not stated                    3929.0   4381.0  ...   4342.0   3840.0\n",
              "White                        62544.0  63768.0  ...  62101.0  48660.0\n",
              "\n",
              "[6 rows x 11 columns]"
            ]
          },
          "metadata": {
            "tags": []
          },
          "execution_count": 55
        }
      ]
    },
    {
      "cell_type": "code",
      "metadata": {
        "id": "mwQmTgXJqvda",
        "colab": {
          "base_uri": "https://localhost:8080/",
          "height": 235
        },
        "outputId": "f374d8e8-0451-4793-f958-c516eaeda2ac"
      },
      "source": [
        "#combine population and arrest data for male and female separately for years 2011 to 2017\n",
        "population_data_male_combine = population_data_male.drop([2018,2019,2020], axis=1)\n",
        "population_data_male_combine = population_data_male_combine.groupby(['ethnic_group']).agg({2011: 'sum',2012:'sum',\n",
        "                                                                                           2013:'sum',2014:'sum',\n",
        "                                                                                           2015:'sum',2016:'sum',\n",
        "                                                                                           2017:'sum'})\n",
        "population_data_male_combine.head()"
      ],
      "execution_count": 56,
      "outputs": [
        {
          "output_type": "execute_result",
          "data": {
            "text/html": [
              "<div>\n",
              "<style scoped>\n",
              "    .dataframe tbody tr th:only-of-type {\n",
              "        vertical-align: middle;\n",
              "    }\n",
              "\n",
              "    .dataframe tbody tr th {\n",
              "        vertical-align: top;\n",
              "    }\n",
              "\n",
              "    .dataframe thead th {\n",
              "        text-align: right;\n",
              "    }\n",
              "</style>\n",
              "<table border=\"1\" class=\"dataframe\">\n",
              "  <thead>\n",
              "    <tr style=\"text-align: right;\">\n",
              "      <th></th>\n",
              "      <th>2011</th>\n",
              "      <th>2012</th>\n",
              "      <th>2013</th>\n",
              "      <th>2014</th>\n",
              "      <th>2015</th>\n",
              "      <th>2016</th>\n",
              "      <th>2017</th>\n",
              "    </tr>\n",
              "    <tr>\n",
              "      <th>ethnic_group</th>\n",
              "      <th></th>\n",
              "      <th></th>\n",
              "      <th></th>\n",
              "      <th></th>\n",
              "      <th></th>\n",
              "      <th></th>\n",
              "      <th></th>\n",
              "    </tr>\n",
              "  </thead>\n",
              "  <tbody>\n",
              "    <tr>\n",
              "      <th>Asian or Asian British</th>\n",
              "      <td>1626358</td>\n",
              "      <td>1677966</td>\n",
              "      <td>1725408</td>\n",
              "      <td>1779133</td>\n",
              "      <td>1835271</td>\n",
              "      <td>1889944</td>\n",
              "      <td>1928289</td>\n",
              "    </tr>\n",
              "    <tr>\n",
              "      <th>Black or Black British</th>\n",
              "      <td>935123</td>\n",
              "      <td>950486</td>\n",
              "      <td>964554</td>\n",
              "      <td>981966</td>\n",
              "      <td>1000923</td>\n",
              "      <td>1019653</td>\n",
              "      <td>1034376</td>\n",
              "    </tr>\n",
              "    <tr>\n",
              "      <th>Chinese/Other</th>\n",
              "      <td>138288</td>\n",
              "      <td>144798</td>\n",
              "      <td>150840</td>\n",
              "      <td>156674</td>\n",
              "      <td>162885</td>\n",
              "      <td>168168</td>\n",
              "      <td>172615</td>\n",
              "    </tr>\n",
              "    <tr>\n",
              "      <th>Mixed</th>\n",
              "      <td>276161</td>\n",
              "      <td>288690</td>\n",
              "      <td>299950</td>\n",
              "      <td>311344</td>\n",
              "      <td>322784</td>\n",
              "      <td>333077</td>\n",
              "      <td>342524</td>\n",
              "    </tr>\n",
              "    <tr>\n",
              "      <th>Not Stated</th>\n",
              "      <td>195517</td>\n",
              "      <td>202005</td>\n",
              "      <td>208077</td>\n",
              "      <td>214859</td>\n",
              "      <td>222031</td>\n",
              "      <td>228836</td>\n",
              "      <td>234302</td>\n",
              "    </tr>\n",
              "  </tbody>\n",
              "</table>\n",
              "</div>"
            ],
            "text/plain": [
              "                           2011     2012     2013  ...     2015     2016     2017\n",
              "ethnic_group                                       ...                           \n",
              "Asian or Asian British  1626358  1677966  1725408  ...  1835271  1889944  1928289\n",
              "Black or Black British   935123   950486   964554  ...  1000923  1019653  1034376\n",
              "Chinese/Other            138288   144798   150840  ...   162885   168168   172615\n",
              "Mixed                    276161   288690   299950  ...   322784   333077   342524\n",
              "Not Stated               195517   202005   208077  ...   222031   228836   234302\n",
              "\n",
              "[5 rows x 7 columns]"
            ]
          },
          "metadata": {
            "tags": []
          },
          "execution_count": 56
        }
      ]
    },
    {
      "cell_type": "code",
      "metadata": {
        "id": "vrOf9C6R2KIH"
      },
      "source": [
        "crime_data1_2011_2017 = crime_data1.loc[(crime_data1['Financial Year'] != '2006/07') & \n",
        "                                        (crime_data1['Financial Year'] != '2007/08') &\n",
        "                                        (crime_data1['Financial Year'] != '2008/09') &\n",
        "                                        (crime_data1['Financial Year'] != '2009/10')]\n",
        "crime_data1_2011_2017_male = crime_data1_2011_2017[crime_data1_2011_2017['Sex'] == 'Male']\n",
        "crime_data1_2011_2017_female = crime_data1_2011_2017[crime_data1_2011_2017['Sex'] == 'Female']\n"
      ],
      "execution_count": 103,
      "outputs": []
    },
    {
      "cell_type": "code",
      "metadata": {
        "id": "sMEddK6pYnfl"
      },
      "source": [
        "crime_data1_2011_2017_male_combine = crime_data1_2011_2017_male.groupby(['Ethnic Group (self-defined)','Financial Year']).agg({'Arrests':'sum'}).unstack()"
      ],
      "execution_count": 81,
      "outputs": []
    },
    {
      "cell_type": "code",
      "metadata": {
        "id": "w0LLRU7hqvIe",
        "colab": {
          "base_uri": "https://localhost:8080/",
          "height": 266
        },
        "outputId": "16cc876e-675d-454e-8be4-bfe6a13bb9f2"
      },
      "source": [
        "crime_data1_2011_2017_male = crime_data1_2011_2017_male.groupby(['Financial Year','Ethnic Group (self-defined)']).agg({'Arrests':'sum'}).unstack()\n",
        "crime_data1_2011_2017_female = crime_data1_2011_2017_female.groupby(['Financial Year','Ethnic Group (self-defined)']).agg({'Arrests':'sum'}).unstack()\n",
        "crime_data1_2011_2017_male.head()"
      ],
      "execution_count": 91,
      "outputs": [
        {
          "output_type": "execute_result",
          "data": {
            "text/html": [
              "<div>\n",
              "<style scoped>\n",
              "    .dataframe tbody tr th:only-of-type {\n",
              "        vertical-align: middle;\n",
              "    }\n",
              "\n",
              "    .dataframe tbody tr th {\n",
              "        vertical-align: top;\n",
              "    }\n",
              "\n",
              "    .dataframe thead tr th {\n",
              "        text-align: left;\n",
              "    }\n",
              "\n",
              "    .dataframe thead tr:last-of-type th {\n",
              "        text-align: right;\n",
              "    }\n",
              "</style>\n",
              "<table border=\"1\" class=\"dataframe\">\n",
              "  <thead>\n",
              "    <tr>\n",
              "      <th></th>\n",
              "      <th colspan=\"6\" halign=\"left\">Arrests</th>\n",
              "    </tr>\n",
              "    <tr>\n",
              "      <th>Ethnic Group (self-defined)</th>\n",
              "      <th>Asian or Asian British</th>\n",
              "      <th>Black or Black British</th>\n",
              "      <th>Chinese/Other</th>\n",
              "      <th>Mixed</th>\n",
              "      <th>Not stated</th>\n",
              "      <th>White</th>\n",
              "    </tr>\n",
              "    <tr>\n",
              "      <th>Financial Year</th>\n",
              "      <th></th>\n",
              "      <th></th>\n",
              "      <th></th>\n",
              "      <th></th>\n",
              "      <th></th>\n",
              "      <th></th>\n",
              "    </tr>\n",
              "  </thead>\n",
              "  <tbody>\n",
              "    <tr>\n",
              "      <th>2010/11</th>\n",
              "      <td>21596.0</td>\n",
              "      <td>38343.0</td>\n",
              "      <td>6366.0</td>\n",
              "      <td>6556.0</td>\n",
              "      <td>5663.0</td>\n",
              "      <td>79496.0</td>\n",
              "    </tr>\n",
              "    <tr>\n",
              "      <th>2011/12</th>\n",
              "      <td>19832.0</td>\n",
              "      <td>35542.0</td>\n",
              "      <td>5693.0</td>\n",
              "      <td>6340.0</td>\n",
              "      <td>5031.0</td>\n",
              "      <td>73718.0</td>\n",
              "    </tr>\n",
              "    <tr>\n",
              "      <th>2012/13</th>\n",
              "      <td>18520.0</td>\n",
              "      <td>32013.0</td>\n",
              "      <td>5170.0</td>\n",
              "      <td>6026.0</td>\n",
              "      <td>4598.0</td>\n",
              "      <td>67798.0</td>\n",
              "    </tr>\n",
              "    <tr>\n",
              "      <th>2013/14</th>\n",
              "      <td>18880.0</td>\n",
              "      <td>31562.0</td>\n",
              "      <td>5230.0</td>\n",
              "      <td>5880.0</td>\n",
              "      <td>4360.0</td>\n",
              "      <td>67781.0</td>\n",
              "    </tr>\n",
              "    <tr>\n",
              "      <th>2014/15</th>\n",
              "      <td>18635.0</td>\n",
              "      <td>30858.0</td>\n",
              "      <td>4969.0</td>\n",
              "      <td>5820.0</td>\n",
              "      <td>4108.0</td>\n",
              "      <td>64184.0</td>\n",
              "    </tr>\n",
              "  </tbody>\n",
              "</table>\n",
              "</div>"
            ],
            "text/plain": [
              "                                           Arrests  ...         \n",
              "Ethnic Group (self-defined) Asian or Asian British  ...    White\n",
              "Financial Year                                      ...         \n",
              "2010/11                                    21596.0  ...  79496.0\n",
              "2011/12                                    19832.0  ...  73718.0\n",
              "2012/13                                    18520.0  ...  67798.0\n",
              "2013/14                                    18880.0  ...  67781.0\n",
              "2014/15                                    18635.0  ...  64184.0\n",
              "\n",
              "[5 rows x 6 columns]"
            ]
          },
          "metadata": {
            "tags": []
          },
          "execution_count": 91
        }
      ]
    },
    {
      "cell_type": "code",
      "metadata": {
        "id": "XUF4OPyyCyOQ",
        "colab": {
          "base_uri": "https://localhost:8080/",
          "height": 235
        },
        "outputId": "5a3a6250-89f7-455f-e1b3-f0ce9ab28820"
      },
      "source": [
        "population_data_female_combine = population_data_female.drop([2018,2019,2020], axis=1)\n",
        "population_data_female_combine = population_data_female_combine.groupby(['ethnic_group']).agg({2011: 'sum',2012:'sum',\n",
        "                                                                                           2013:'sum',2014:'sum',\n",
        "                                                                                           2015:'sum',2016:'sum',\n",
        "                                                                                           2017:'sum'})\n",
        "population_data_female_combine.head()"
      ],
      "execution_count": 72,
      "outputs": [
        {
          "output_type": "execute_result",
          "data": {
            "text/html": [
              "<div>\n",
              "<style scoped>\n",
              "    .dataframe tbody tr th:only-of-type {\n",
              "        vertical-align: middle;\n",
              "    }\n",
              "\n",
              "    .dataframe tbody tr th {\n",
              "        vertical-align: top;\n",
              "    }\n",
              "\n",
              "    .dataframe thead th {\n",
              "        text-align: right;\n",
              "    }\n",
              "</style>\n",
              "<table border=\"1\" class=\"dataframe\">\n",
              "  <thead>\n",
              "    <tr style=\"text-align: right;\">\n",
              "      <th></th>\n",
              "      <th>2011</th>\n",
              "      <th>2012</th>\n",
              "      <th>2013</th>\n",
              "      <th>2014</th>\n",
              "      <th>2015</th>\n",
              "      <th>2016</th>\n",
              "      <th>2017</th>\n",
              "    </tr>\n",
              "    <tr>\n",
              "      <th>ethnic_group</th>\n",
              "      <th></th>\n",
              "      <th></th>\n",
              "      <th></th>\n",
              "      <th></th>\n",
              "      <th></th>\n",
              "      <th></th>\n",
              "      <th></th>\n",
              "    </tr>\n",
              "  </thead>\n",
              "  <tbody>\n",
              "    <tr>\n",
              "      <th>Asian or Asian British</th>\n",
              "      <td>1554955</td>\n",
              "      <td>1607041</td>\n",
              "      <td>1653591</td>\n",
              "      <td>1702622</td>\n",
              "      <td>1753283</td>\n",
              "      <td>1797203</td>\n",
              "      <td>1831002</td>\n",
              "    </tr>\n",
              "    <tr>\n",
              "      <th>Black or Black British</th>\n",
              "      <td>1162780</td>\n",
              "      <td>1183990</td>\n",
              "      <td>1203944</td>\n",
              "      <td>1225093</td>\n",
              "      <td>1248162</td>\n",
              "      <td>1267984</td>\n",
              "      <td>1283121</td>\n",
              "    </tr>\n",
              "    <tr>\n",
              "      <th>Chinese/Other</th>\n",
              "      <td>165442</td>\n",
              "      <td>174690</td>\n",
              "      <td>181484</td>\n",
              "      <td>187550</td>\n",
              "      <td>193820</td>\n",
              "      <td>197696</td>\n",
              "      <td>202459</td>\n",
              "    </tr>\n",
              "    <tr>\n",
              "      <th>Mixed</th>\n",
              "      <td>304856</td>\n",
              "      <td>318489</td>\n",
              "      <td>330933</td>\n",
              "      <td>341923</td>\n",
              "      <td>352544</td>\n",
              "      <td>360524</td>\n",
              "      <td>368538</td>\n",
              "    </tr>\n",
              "    <tr>\n",
              "      <th>Not Stated</th>\n",
              "      <td>185671</td>\n",
              "      <td>191449</td>\n",
              "      <td>196785</td>\n",
              "      <td>202146</td>\n",
              "      <td>208073</td>\n",
              "      <td>213001</td>\n",
              "      <td>217211</td>\n",
              "    </tr>\n",
              "  </tbody>\n",
              "</table>\n",
              "</div>"
            ],
            "text/plain": [
              "                           2011     2012     2013  ...     2015     2016     2017\n",
              "ethnic_group                                       ...                           \n",
              "Asian or Asian British  1554955  1607041  1653591  ...  1753283  1797203  1831002\n",
              "Black or Black British  1162780  1183990  1203944  ...  1248162  1267984  1283121\n",
              "Chinese/Other            165442   174690   181484  ...   193820   197696   202459\n",
              "Mixed                    304856   318489   330933  ...   352544   360524   368538\n",
              "Not Stated               185671   191449   196785  ...   208073   213001   217211\n",
              "\n",
              "[5 rows x 7 columns]"
            ]
          },
          "metadata": {
            "tags": []
          },
          "execution_count": 72
        }
      ]
    },
    {
      "cell_type": "code",
      "metadata": {
        "id": "7m1JtWycCyH8",
        "colab": {
          "base_uri": "https://localhost:8080/",
          "height": 976
        },
        "outputId": "4a40631c-0e0c-4062-a5aa-e915fef5c4dd"
      },
      "source": [
        "#population_data_male_comparison = population_data_male.groupby\n",
        "fig, ax = plt.subplots(figsize=(15,7))\n",
        "plt.hist2d(crime_data1_2011_2017_male_combine.loc['Arrests'], population_data_male_combine, bins=10, cmap='green')\n",
        "\n",
        "# test = crime_data1_2011_2017_male.set_index('ethnic group')\n",
        "# test\n",
        "#crime_data1_2011_2017_male.columns\n",
        "#population_data_male_combine.columns"
      ],
      "execution_count": 125,
      "outputs": [
        {
          "output_type": "error",
          "ename": "KeyError",
          "evalue": "ignored",
          "traceback": [
            "\u001b[0;31m---------------------------------------------------------------------------\u001b[0m",
            "\u001b[0;31mKeyError\u001b[0m                                  Traceback (most recent call last)",
            "\u001b[0;32m/usr/local/lib/python3.7/dist-packages/pandas/core/indexes/base.py\u001b[0m in \u001b[0;36mget_loc\u001b[0;34m(self, key, method, tolerance)\u001b[0m\n\u001b[1;32m   2897\u001b[0m             \u001b[0;32mtry\u001b[0m\u001b[0;34m:\u001b[0m\u001b[0;34m\u001b[0m\u001b[0;34m\u001b[0m\u001b[0m\n\u001b[0;32m-> 2898\u001b[0;31m                 \u001b[0;32mreturn\u001b[0m \u001b[0mself\u001b[0m\u001b[0;34m.\u001b[0m\u001b[0m_engine\u001b[0m\u001b[0;34m.\u001b[0m\u001b[0mget_loc\u001b[0m\u001b[0;34m(\u001b[0m\u001b[0mcasted_key\u001b[0m\u001b[0;34m)\u001b[0m\u001b[0;34m\u001b[0m\u001b[0;34m\u001b[0m\u001b[0m\n\u001b[0m\u001b[1;32m   2899\u001b[0m             \u001b[0;32mexcept\u001b[0m \u001b[0mKeyError\u001b[0m \u001b[0;32mas\u001b[0m \u001b[0merr\u001b[0m\u001b[0;34m:\u001b[0m\u001b[0;34m\u001b[0m\u001b[0;34m\u001b[0m\u001b[0m\n",
            "\u001b[0;32mpandas/_libs/index.pyx\u001b[0m in \u001b[0;36mpandas._libs.index.IndexEngine.get_loc\u001b[0;34m()\u001b[0m\n",
            "\u001b[0;32mpandas/_libs/index.pyx\u001b[0m in \u001b[0;36mpandas._libs.index.IndexEngine.get_loc\u001b[0;34m()\u001b[0m\n",
            "\u001b[0;32mpandas/_libs/hashtable_class_helper.pxi\u001b[0m in \u001b[0;36mpandas._libs.hashtable.PyObjectHashTable.get_item\u001b[0;34m()\u001b[0m\n",
            "\u001b[0;32mpandas/_libs/hashtable_class_helper.pxi\u001b[0m in \u001b[0;36mpandas._libs.hashtable.PyObjectHashTable.get_item\u001b[0;34m()\u001b[0m\n",
            "\u001b[0;31mKeyError\u001b[0m: 'Arrests'",
            "\nThe above exception was the direct cause of the following exception:\n",
            "\u001b[0;31mKeyError\u001b[0m                                  Traceback (most recent call last)",
            "\u001b[0;32m<ipython-input-125-748ae04ccbb6>\u001b[0m in \u001b[0;36m<module>\u001b[0;34m()\u001b[0m\n\u001b[1;32m      1\u001b[0m \u001b[0;31m#population_data_male_comparison = population_data_male.groupby\u001b[0m\u001b[0;34m\u001b[0m\u001b[0;34m\u001b[0m\u001b[0;34m\u001b[0m\u001b[0m\n\u001b[1;32m      2\u001b[0m \u001b[0mfig\u001b[0m\u001b[0;34m,\u001b[0m \u001b[0max\u001b[0m \u001b[0;34m=\u001b[0m \u001b[0mplt\u001b[0m\u001b[0;34m.\u001b[0m\u001b[0msubplots\u001b[0m\u001b[0;34m(\u001b[0m\u001b[0mfigsize\u001b[0m\u001b[0;34m=\u001b[0m\u001b[0;34m(\u001b[0m\u001b[0;36m15\u001b[0m\u001b[0;34m,\u001b[0m\u001b[0;36m7\u001b[0m\u001b[0;34m)\u001b[0m\u001b[0;34m)\u001b[0m\u001b[0;34m\u001b[0m\u001b[0;34m\u001b[0m\u001b[0m\n\u001b[0;32m----> 3\u001b[0;31m \u001b[0mplt\u001b[0m\u001b[0;34m.\u001b[0m\u001b[0mhist2d\u001b[0m\u001b[0;34m(\u001b[0m\u001b[0mcrime_data1_2011_2017_male_combine\u001b[0m\u001b[0;34m.\u001b[0m\u001b[0mloc\u001b[0m\u001b[0;34m[\u001b[0m\u001b[0;34m'Arrests'\u001b[0m\u001b[0;34m]\u001b[0m\u001b[0;34m,\u001b[0m \u001b[0mpopulation_data_male_combine\u001b[0m\u001b[0;34m[\u001b[0m\u001b[0;36m2017\u001b[0m\u001b[0;34m]\u001b[0m\u001b[0;34m,\u001b[0m \u001b[0mbins\u001b[0m\u001b[0;34m=\u001b[0m\u001b[0;36m10\u001b[0m\u001b[0;34m,\u001b[0m \u001b[0mcmap\u001b[0m\u001b[0;34m=\u001b[0m\u001b[0;34m'green'\u001b[0m\u001b[0;34m)\u001b[0m\u001b[0;34m\u001b[0m\u001b[0;34m\u001b[0m\u001b[0m\n\u001b[0m\u001b[1;32m      4\u001b[0m \u001b[0;34m\u001b[0m\u001b[0m\n\u001b[1;32m      5\u001b[0m \u001b[0;31m# test = crime_data1_2011_2017_male.set_index('ethnic group')\u001b[0m\u001b[0;34m\u001b[0m\u001b[0;34m\u001b[0m\u001b[0;34m\u001b[0m\u001b[0m\n",
            "\u001b[0;32m/usr/local/lib/python3.7/dist-packages/pandas/core/indexing.py\u001b[0m in \u001b[0;36m__getitem__\u001b[0;34m(self, key)\u001b[0m\n\u001b[1;32m    877\u001b[0m \u001b[0;34m\u001b[0m\u001b[0m\n\u001b[1;32m    878\u001b[0m             \u001b[0mmaybe_callable\u001b[0m \u001b[0;34m=\u001b[0m \u001b[0mcom\u001b[0m\u001b[0;34m.\u001b[0m\u001b[0mapply_if_callable\u001b[0m\u001b[0;34m(\u001b[0m\u001b[0mkey\u001b[0m\u001b[0;34m,\u001b[0m \u001b[0mself\u001b[0m\u001b[0;34m.\u001b[0m\u001b[0mobj\u001b[0m\u001b[0;34m)\u001b[0m\u001b[0;34m\u001b[0m\u001b[0;34m\u001b[0m\u001b[0m\n\u001b[0;32m--> 879\u001b[0;31m             \u001b[0;32mreturn\u001b[0m \u001b[0mself\u001b[0m\u001b[0;34m.\u001b[0m\u001b[0m_getitem_axis\u001b[0m\u001b[0;34m(\u001b[0m\u001b[0mmaybe_callable\u001b[0m\u001b[0;34m,\u001b[0m \u001b[0maxis\u001b[0m\u001b[0;34m=\u001b[0m\u001b[0maxis\u001b[0m\u001b[0;34m)\u001b[0m\u001b[0;34m\u001b[0m\u001b[0;34m\u001b[0m\u001b[0m\n\u001b[0m\u001b[1;32m    880\u001b[0m \u001b[0;34m\u001b[0m\u001b[0m\n\u001b[1;32m    881\u001b[0m     \u001b[0;32mdef\u001b[0m \u001b[0m_is_scalar_access\u001b[0m\u001b[0;34m(\u001b[0m\u001b[0mself\u001b[0m\u001b[0;34m,\u001b[0m \u001b[0mkey\u001b[0m\u001b[0;34m:\u001b[0m \u001b[0mTuple\u001b[0m\u001b[0;34m)\u001b[0m\u001b[0;34m:\u001b[0m\u001b[0;34m\u001b[0m\u001b[0;34m\u001b[0m\u001b[0m\n",
            "\u001b[0;32m/usr/local/lib/python3.7/dist-packages/pandas/core/indexing.py\u001b[0m in \u001b[0;36m_getitem_axis\u001b[0;34m(self, key, axis)\u001b[0m\n\u001b[1;32m   1108\u001b[0m         \u001b[0;31m# fall thru to straight lookup\u001b[0m\u001b[0;34m\u001b[0m\u001b[0;34m\u001b[0m\u001b[0;34m\u001b[0m\u001b[0m\n\u001b[1;32m   1109\u001b[0m         \u001b[0mself\u001b[0m\u001b[0;34m.\u001b[0m\u001b[0m_validate_key\u001b[0m\u001b[0;34m(\u001b[0m\u001b[0mkey\u001b[0m\u001b[0;34m,\u001b[0m \u001b[0maxis\u001b[0m\u001b[0;34m)\u001b[0m\u001b[0;34m\u001b[0m\u001b[0;34m\u001b[0m\u001b[0m\n\u001b[0;32m-> 1110\u001b[0;31m         \u001b[0;32mreturn\u001b[0m \u001b[0mself\u001b[0m\u001b[0;34m.\u001b[0m\u001b[0m_get_label\u001b[0m\u001b[0;34m(\u001b[0m\u001b[0mkey\u001b[0m\u001b[0;34m,\u001b[0m \u001b[0maxis\u001b[0m\u001b[0;34m=\u001b[0m\u001b[0maxis\u001b[0m\u001b[0;34m)\u001b[0m\u001b[0;34m\u001b[0m\u001b[0;34m\u001b[0m\u001b[0m\n\u001b[0m\u001b[1;32m   1111\u001b[0m \u001b[0;34m\u001b[0m\u001b[0m\n\u001b[1;32m   1112\u001b[0m     \u001b[0;32mdef\u001b[0m \u001b[0m_get_slice_axis\u001b[0m\u001b[0;34m(\u001b[0m\u001b[0mself\u001b[0m\u001b[0;34m,\u001b[0m \u001b[0mslice_obj\u001b[0m\u001b[0;34m:\u001b[0m \u001b[0mslice\u001b[0m\u001b[0;34m,\u001b[0m \u001b[0maxis\u001b[0m\u001b[0;34m:\u001b[0m \u001b[0mint\u001b[0m\u001b[0;34m)\u001b[0m\u001b[0;34m:\u001b[0m\u001b[0;34m\u001b[0m\u001b[0;34m\u001b[0m\u001b[0m\n",
            "\u001b[0;32m/usr/local/lib/python3.7/dist-packages/pandas/core/indexing.py\u001b[0m in \u001b[0;36m_get_label\u001b[0;34m(self, label, axis)\u001b[0m\n\u001b[1;32m   1057\u001b[0m     \u001b[0;32mdef\u001b[0m \u001b[0m_get_label\u001b[0m\u001b[0;34m(\u001b[0m\u001b[0mself\u001b[0m\u001b[0;34m,\u001b[0m \u001b[0mlabel\u001b[0m\u001b[0;34m,\u001b[0m \u001b[0maxis\u001b[0m\u001b[0;34m:\u001b[0m \u001b[0mint\u001b[0m\u001b[0;34m)\u001b[0m\u001b[0;34m:\u001b[0m\u001b[0;34m\u001b[0m\u001b[0;34m\u001b[0m\u001b[0m\n\u001b[1;32m   1058\u001b[0m         \u001b[0;31m# GH#5667 this will fail if the label is not present in the axis.\u001b[0m\u001b[0;34m\u001b[0m\u001b[0;34m\u001b[0m\u001b[0;34m\u001b[0m\u001b[0m\n\u001b[0;32m-> 1059\u001b[0;31m         \u001b[0;32mreturn\u001b[0m \u001b[0mself\u001b[0m\u001b[0;34m.\u001b[0m\u001b[0mobj\u001b[0m\u001b[0;34m.\u001b[0m\u001b[0mxs\u001b[0m\u001b[0;34m(\u001b[0m\u001b[0mlabel\u001b[0m\u001b[0;34m,\u001b[0m \u001b[0maxis\u001b[0m\u001b[0;34m=\u001b[0m\u001b[0maxis\u001b[0m\u001b[0;34m)\u001b[0m\u001b[0;34m\u001b[0m\u001b[0;34m\u001b[0m\u001b[0m\n\u001b[0m\u001b[1;32m   1060\u001b[0m \u001b[0;34m\u001b[0m\u001b[0m\n\u001b[1;32m   1061\u001b[0m     \u001b[0;32mdef\u001b[0m \u001b[0m_handle_lowerdim_multi_index_axis0\u001b[0m\u001b[0;34m(\u001b[0m\u001b[0mself\u001b[0m\u001b[0;34m,\u001b[0m \u001b[0mtup\u001b[0m\u001b[0;34m:\u001b[0m \u001b[0mTuple\u001b[0m\u001b[0;34m)\u001b[0m\u001b[0;34m:\u001b[0m\u001b[0;34m\u001b[0m\u001b[0;34m\u001b[0m\u001b[0m\n",
            "\u001b[0;32m/usr/local/lib/python3.7/dist-packages/pandas/core/generic.py\u001b[0m in \u001b[0;36mxs\u001b[0;34m(self, key, axis, level, drop_level)\u001b[0m\n\u001b[1;32m   3491\u001b[0m             \u001b[0mloc\u001b[0m\u001b[0;34m,\u001b[0m \u001b[0mnew_index\u001b[0m \u001b[0;34m=\u001b[0m \u001b[0mself\u001b[0m\u001b[0;34m.\u001b[0m\u001b[0mindex\u001b[0m\u001b[0;34m.\u001b[0m\u001b[0mget_loc_level\u001b[0m\u001b[0;34m(\u001b[0m\u001b[0mkey\u001b[0m\u001b[0;34m,\u001b[0m \u001b[0mdrop_level\u001b[0m\u001b[0;34m=\u001b[0m\u001b[0mdrop_level\u001b[0m\u001b[0;34m)\u001b[0m\u001b[0;34m\u001b[0m\u001b[0;34m\u001b[0m\u001b[0m\n\u001b[1;32m   3492\u001b[0m         \u001b[0;32melse\u001b[0m\u001b[0;34m:\u001b[0m\u001b[0;34m\u001b[0m\u001b[0;34m\u001b[0m\u001b[0m\n\u001b[0;32m-> 3493\u001b[0;31m             \u001b[0mloc\u001b[0m \u001b[0;34m=\u001b[0m \u001b[0mself\u001b[0m\u001b[0;34m.\u001b[0m\u001b[0mindex\u001b[0m\u001b[0;34m.\u001b[0m\u001b[0mget_loc\u001b[0m\u001b[0;34m(\u001b[0m\u001b[0mkey\u001b[0m\u001b[0;34m)\u001b[0m\u001b[0;34m\u001b[0m\u001b[0;34m\u001b[0m\u001b[0m\n\u001b[0m\u001b[1;32m   3494\u001b[0m \u001b[0;34m\u001b[0m\u001b[0m\n\u001b[1;32m   3495\u001b[0m             \u001b[0;32mif\u001b[0m \u001b[0misinstance\u001b[0m\u001b[0;34m(\u001b[0m\u001b[0mloc\u001b[0m\u001b[0;34m,\u001b[0m \u001b[0mnp\u001b[0m\u001b[0;34m.\u001b[0m\u001b[0mndarray\u001b[0m\u001b[0;34m)\u001b[0m\u001b[0;34m:\u001b[0m\u001b[0;34m\u001b[0m\u001b[0;34m\u001b[0m\u001b[0m\n",
            "\u001b[0;32m/usr/local/lib/python3.7/dist-packages/pandas/core/indexes/base.py\u001b[0m in \u001b[0;36mget_loc\u001b[0;34m(self, key, method, tolerance)\u001b[0m\n\u001b[1;32m   2898\u001b[0m                 \u001b[0;32mreturn\u001b[0m \u001b[0mself\u001b[0m\u001b[0;34m.\u001b[0m\u001b[0m_engine\u001b[0m\u001b[0;34m.\u001b[0m\u001b[0mget_loc\u001b[0m\u001b[0;34m(\u001b[0m\u001b[0mcasted_key\u001b[0m\u001b[0;34m)\u001b[0m\u001b[0;34m\u001b[0m\u001b[0;34m\u001b[0m\u001b[0m\n\u001b[1;32m   2899\u001b[0m             \u001b[0;32mexcept\u001b[0m \u001b[0mKeyError\u001b[0m \u001b[0;32mas\u001b[0m \u001b[0merr\u001b[0m\u001b[0;34m:\u001b[0m\u001b[0;34m\u001b[0m\u001b[0;34m\u001b[0m\u001b[0m\n\u001b[0;32m-> 2900\u001b[0;31m                 \u001b[0;32mraise\u001b[0m \u001b[0mKeyError\u001b[0m\u001b[0;34m(\u001b[0m\u001b[0mkey\u001b[0m\u001b[0;34m)\u001b[0m \u001b[0;32mfrom\u001b[0m \u001b[0merr\u001b[0m\u001b[0;34m\u001b[0m\u001b[0;34m\u001b[0m\u001b[0m\n\u001b[0m\u001b[1;32m   2901\u001b[0m \u001b[0;34m\u001b[0m\u001b[0m\n\u001b[1;32m   2902\u001b[0m         \u001b[0;32mif\u001b[0m \u001b[0mtolerance\u001b[0m \u001b[0;32mis\u001b[0m \u001b[0;32mnot\u001b[0m \u001b[0;32mNone\u001b[0m\u001b[0;34m:\u001b[0m\u001b[0;34m\u001b[0m\u001b[0;34m\u001b[0m\u001b[0m\n",
            "\u001b[0;31mKeyError\u001b[0m: 'Arrests'"
          ]
        },
        {
          "output_type": "display_data",
          "data": {
            "image/png": "[encoded data removed]",
            "text/plain": [
              "<Figure size 1080x504 with 1 Axes>"
            ]
          },
          "metadata": {
            "tags": [],
            "needs_background": "light"
          }
        }
      ]
    },
    {
      "cell_type": "code",
      "metadata": {
        "id": "u7Pte3oxcAIn",
        "colab": {
          "base_uri": "https://localhost:8080/",
          "height": 475
        },
        "outputId": "749ed18b-e5b9-4a14-e55d-227dcfdcef68"
      },
      "source": [
        "fig, ax = plt.subplots(figsize=(15,7))\n",
        "crime_data1_2011_2017_male.plot(ax=ax)\n",
        "plt.title(\"The changes in arrests by ethnicity from 2011 to 2017 for males\")"
      ],
      "execution_count": 65,
      "outputs": [
        {
          "output_type": "execute_result",
          "data": {
            "text/plain": [
              "Text(0.5, 1.0, 'The changes in arrests by ethnicity from 2011 to 2017 for males')"
            ]
          },
          "metadata": {
            "tags": []
          },
          "execution_count": 65
        },
        {
          "output_type": "display_data",
          "data": {
            "image/png": "[encoded data removed]",
            "text/plain": [
              "<Figure size 1080x504 with 1 Axes>"
            ]
          },
          "metadata": {
            "tags": [],
            "needs_background": "light"
          }
        }
      ]
    },
    {
      "cell_type": "code",
      "metadata": {
        "id": "kC0NvAVhcADb",
        "colab": {
          "base_uri": "https://localhost:8080/",
          "height": 475
        },
        "outputId": "977e6e65-a935-4757-90ad-96b784522426"
      },
      "source": [
        "fig, ax = plt.subplots(figsize=(15,7))\n",
        "crime_data1_2011_2017_female.plot(ax=ax)\n",
        "plt.title(\"The changes in arrests by ethnicity from 2011 to 2017 for females\")"
      ],
      "execution_count": 68,
      "outputs": [
        {
          "output_type": "execute_result",
          "data": {
            "text/plain": [
              "Text(0.5, 1.0, 'The changes in arrests by ethnicity from 2011 to 2017 for females')"
            ]
          },
          "metadata": {
            "tags": []
          },
          "execution_count": 68
        },
        {
          "output_type": "display_data",
          "data": {
            "image/png": "[encoded data removed]",
            "text/plain": [
              "<Figure size 1080x504 with 1 Axes>"
            ]
          },
          "metadata": {
            "tags": [],
            "needs_background": "light"
          }
        }
      ]
    },
    {
      "cell_type": "code",
      "metadata": {
        "colab": {
          "base_uri": "https://localhost:8080/",
          "height": 345
        },
        "id": "zwqEMumxghsW",
        "outputId": "d72d1964-a2b3-4eb2-ac25-f3d00a4e58c4"
      },
      "source": [
        "crime_data1_2011_2017_male.describe()"
      ],
      "execution_count": 92,
      "outputs": [
        {
          "output_type": "execute_result",
          "data": {
            "text/html": [
              "<div>\n",
              "<style scoped>\n",
              "    .dataframe tbody tr th:only-of-type {\n",
              "        vertical-align: middle;\n",
              "    }\n",
              "\n",
              "    .dataframe tbody tr th {\n",
              "        vertical-align: top;\n",
              "    }\n",
              "\n",
              "    .dataframe thead tr th {\n",
              "        text-align: left;\n",
              "    }\n",
              "</style>\n",
              "<table border=\"1\" class=\"dataframe\">\n",
              "  <thead>\n",
              "    <tr>\n",
              "      <th></th>\n",
              "      <th colspan=\"6\" halign=\"left\">Arrests</th>\n",
              "    </tr>\n",
              "    <tr>\n",
              "      <th>Ethnic Group (self-defined)</th>\n",
              "      <th>Asian or Asian British</th>\n",
              "      <th>Black or Black British</th>\n",
              "      <th>Chinese/Other</th>\n",
              "      <th>Mixed</th>\n",
              "      <th>Not stated</th>\n",
              "      <th>White</th>\n",
              "    </tr>\n",
              "  </thead>\n",
              "  <tbody>\n",
              "    <tr>\n",
              "      <th>count</th>\n",
              "      <td>7.000000</td>\n",
              "      <td>7.000000</td>\n",
              "      <td>7.000000</td>\n",
              "      <td>7.000000</td>\n",
              "      <td>7.000000</td>\n",
              "      <td>7.000000</td>\n",
              "    </tr>\n",
              "    <tr>\n",
              "      <th>mean</th>\n",
              "      <td>18724.142857</td>\n",
              "      <td>32169.714286</td>\n",
              "      <td>5226.142857</td>\n",
              "      <td>5955.857143</td>\n",
              "      <td>4563.142857</td>\n",
              "      <td>66248.285714</td>\n",
              "    </tr>\n",
              "    <tr>\n",
              "      <th>std</th>\n",
              "      <td>2130.579063</td>\n",
              "      <td>3945.460629</td>\n",
              "      <td>694.455045</td>\n",
              "      <td>513.909340</td>\n",
              "      <td>612.379629</td>\n",
              "      <td>9719.897474</td>\n",
              "    </tr>\n",
              "    <tr>\n",
              "      <th>min</th>\n",
              "      <td>14533.000000</td>\n",
              "      <td>25798.000000</td>\n",
              "      <td>4095.000000</td>\n",
              "      <td>4946.000000</td>\n",
              "      <td>3840.000000</td>\n",
              "      <td>48660.000000</td>\n",
              "    </tr>\n",
              "    <tr>\n",
              "      <th>25%</th>\n",
              "      <td>18577.500000</td>\n",
              "      <td>30965.000000</td>\n",
              "      <td>5014.500000</td>\n",
              "      <td>5850.000000</td>\n",
              "      <td>4225.000000</td>\n",
              "      <td>63142.500000</td>\n",
              "    </tr>\n",
              "    <tr>\n",
              "      <th>50%</th>\n",
              "      <td>18880.000000</td>\n",
              "      <td>31562.000000</td>\n",
              "      <td>5170.000000</td>\n",
              "      <td>6026.000000</td>\n",
              "      <td>4360.000000</td>\n",
              "      <td>67781.000000</td>\n",
              "    </tr>\n",
              "    <tr>\n",
              "      <th>75%</th>\n",
              "      <td>19452.500000</td>\n",
              "      <td>33777.500000</td>\n",
              "      <td>5461.500000</td>\n",
              "      <td>6231.500000</td>\n",
              "      <td>4814.500000</td>\n",
              "      <td>70758.000000</td>\n",
              "    </tr>\n",
              "    <tr>\n",
              "      <th>max</th>\n",
              "      <td>21596.000000</td>\n",
              "      <td>38343.000000</td>\n",
              "      <td>6366.000000</td>\n",
              "      <td>6556.000000</td>\n",
              "      <td>5663.000000</td>\n",
              "      <td>79496.000000</td>\n",
              "    </tr>\n",
              "  </tbody>\n",
              "</table>\n",
              "</div>"
            ],
            "text/plain": [
              "                                           Arrests  ...              \n",
              "Ethnic Group (self-defined) Asian or Asian British  ...         White\n",
              "count                                     7.000000  ...      7.000000\n",
              "mean                                  18724.142857  ...  66248.285714\n",
              "std                                    2130.579063  ...   9719.897474\n",
              "min                                   14533.000000  ...  48660.000000\n",
              "25%                                   18577.500000  ...  63142.500000\n",
              "50%                                   18880.000000  ...  67781.000000\n",
              "75%                                   19452.500000  ...  70758.000000\n",
              "max                                   21596.000000  ...  79496.000000\n",
              "\n",
              "[8 rows x 6 columns]"
            ]
          },
          "metadata": {
            "tags": []
          },
          "execution_count": 92
        }
      ]
    },
    {
      "cell_type": "code",
      "metadata": {
        "colab": {
          "base_uri": "https://localhost:8080/"
        },
        "id": "mFVfN82cfqsg",
        "outputId": "a966fd45-7e2c-4660-f811-eddd22215381"
      },
      "source": [
        "crime_data1_2011_2017_male_combine.columns"
      ],
      "execution_count": 99,
      "outputs": [
        {
          "output_type": "execute_result",
          "data": {
            "text/plain": [
              "MultiIndex([('Arrests', '2010/11'),\n",
              "            ('Arrests', '2011/12'),\n",
              "            ('Arrests', '2012/13'),\n",
              "            ('Arrests', '2013/14'),\n",
              "            ('Arrests', '2014/15'),\n",
              "            ('Arrests', '2015/16'),\n",
              "            ('Arrests', '2016/17')],\n",
              "           names=[None, 'Financial Year'])"
            ]
          },
          "metadata": {
            "tags": []
          },
          "execution_count": 99
        }
      ]
    },
    {
      "cell_type": "code",
      "metadata": {
        "colab": {
          "base_uri": "https://localhost:8080/"
        },
        "id": "QcQa5XwFfEbn",
        "outputId": "31250403-6091-4859-cc56-2fcaf1ac8483"
      },
      "source": [
        "population_data_female_combine.columns"
      ],
      "execution_count": 98,
      "outputs": [
        {
          "output_type": "execute_result",
          "data": {
            "text/plain": [
              "Int64Index([2011, 2012, 2013, 2014, 2015, 2016, 2017], dtype='int64')"
            ]
          },
          "metadata": {
            "tags": []
          },
          "execution_count": 98
        }
      ]
    },
    {
      "cell_type": "code",
      "metadata": {
        "colab": {
          "base_uri": "https://localhost:8080/",
          "height": 197
        },
        "id": "Fjl5lJZgfESR",
        "outputId": "1f37c361-3cd2-4e2f-d3b8-f89af12d73f2"
      },
      "source": [
        "# for (col, cols) in crime_data1_2011_2017_male_combine.columns:\n",
        "#   for colx in population_data_male_combine.columns:\n",
        "#     proportion = (col, cols) / colx\n",
        "\n",
        "test = "
      ],
      "execution_count": 100,
      "outputs": [
        {
          "output_type": "error",
          "ename": "TypeError",
          "evalue": "ignored",
          "traceback": [
            "\u001b[0;31m---------------------------------------------------------------------------\u001b[0m",
            "\u001b[0;31mTypeError\u001b[0m                                 Traceback (most recent call last)",
            "\u001b[0;32m<ipython-input-100-bd51ca95b53a>\u001b[0m in \u001b[0;36m<module>\u001b[0;34m()\u001b[0m\n\u001b[1;32m      1\u001b[0m \u001b[0;32mfor\u001b[0m \u001b[0;34m(\u001b[0m\u001b[0mcol\u001b[0m\u001b[0;34m,\u001b[0m \u001b[0mcols\u001b[0m\u001b[0;34m)\u001b[0m \u001b[0;32min\u001b[0m \u001b[0mcrime_data1_2011_2017_male_combine\u001b[0m\u001b[0;34m.\u001b[0m\u001b[0mcolumns\u001b[0m\u001b[0;34m:\u001b[0m\u001b[0;34m\u001b[0m\u001b[0;34m\u001b[0m\u001b[0m\n\u001b[1;32m      2\u001b[0m   \u001b[0;32mfor\u001b[0m \u001b[0mcolx\u001b[0m \u001b[0;32min\u001b[0m \u001b[0mpopulation_data_male_combine\u001b[0m\u001b[0;34m.\u001b[0m\u001b[0mcolumns\u001b[0m\u001b[0;34m:\u001b[0m\u001b[0;34m\u001b[0m\u001b[0;34m\u001b[0m\u001b[0m\n\u001b[0;32m----> 3\u001b[0;31m     \u001b[0mproportion\u001b[0m \u001b[0;34m=\u001b[0m \u001b[0;34m(\u001b[0m\u001b[0mcol\u001b[0m\u001b[0;34m,\u001b[0m \u001b[0mcols\u001b[0m\u001b[0;34m)\u001b[0m \u001b[0;34m/\u001b[0m \u001b[0mcolx\u001b[0m\u001b[0;34m\u001b[0m\u001b[0;34m\u001b[0m\u001b[0m\n\u001b[0m",
            "\u001b[0;31mTypeError\u001b[0m: unsupported operand type(s) for /: 'tuple' and 'int'"
          ]
        }
      ]
    },
    {
      "cell_type": "code",
      "metadata": {
        "colab": {
          "base_uri": "https://localhost:8080/",
          "height": 487
        },
        "id": "rWJkdC9LqNgV",
        "outputId": "9d121793-d805-4e18-a4f1-36bb854fde4c"
      },
      "source": [
        "crime_data1_reason_of_arrest_male = crime_data1_2011_2017_male.groupby(['Ethnic Group (self-defined)','Reason for arrest \\n(offence group)']).agg({'Arrests':'sum'}).unstack()\n",
        "crime_data1_reason_of_arrest_male"
      ],
      "execution_count": 127,
      "outputs": [
        {
          "output_type": "execute_result",
          "data": {
            "text/html": [
              "<div>\n",
              "<style scoped>\n",
              "    .dataframe tbody tr th:only-of-type {\n",
              "        vertical-align: middle;\n",
              "    }\n",
              "\n",
              "    .dataframe tbody tr th {\n",
              "        vertical-align: top;\n",
              "    }\n",
              "\n",
              "    .dataframe thead tr th {\n",
              "        text-align: left;\n",
              "    }\n",
              "\n",
              "    .dataframe thead tr:last-of-type th {\n",
              "        text-align: right;\n",
              "    }\n",
              "</style>\n",
              "<table border=\"1\" class=\"dataframe\">\n",
              "  <thead>\n",
              "    <tr>\n",
              "      <th></th>\n",
              "      <th colspan=\"19\" halign=\"left\">Arrests</th>\n",
              "    </tr>\n",
              "    <tr>\n",
              "      <th>Reason for arrest \n",
              "(offence group)</th>\n",
              "      <th>2015/16 onwards - Criminal damage and arson</th>\n",
              "      <th>2015/16 onwards - Drug offences</th>\n",
              "      <th>2015/16 onwards - Fraud offences</th>\n",
              "      <th>2015/16 onwards - Misc crimes against society</th>\n",
              "      <th>2015/16 onwards - Possession of weapons offences</th>\n",
              "      <th>2015/16 onwards - Public order offences</th>\n",
              "      <th>2015/16 onwards - Robbery</th>\n",
              "      <th>2015/16 onwards - Sexual offences</th>\n",
              "      <th>2015/16 onwards - Theft offences</th>\n",
              "      <th>2015/16 onwards - Violence against the person</th>\n",
              "      <th>Burglary</th>\n",
              "      <th>Criminal damage</th>\n",
              "      <th>Drug offences</th>\n",
              "      <th>Fraud and forgery</th>\n",
              "      <th>Other offences</th>\n",
              "      <th>Robbery</th>\n",
              "      <th>Sexual offences</th>\n",
              "      <th>Theft and handling stolen goods</th>\n",
              "      <th>Violence against the person</th>\n",
              "    </tr>\n",
              "    <tr>\n",
              "      <th>Ethnic Group (self-defined)</th>\n",
              "      <th></th>\n",
              "      <th></th>\n",
              "      <th></th>\n",
              "      <th></th>\n",
              "      <th></th>\n",
              "      <th></th>\n",
              "      <th></th>\n",
              "      <th></th>\n",
              "      <th></th>\n",
              "      <th></th>\n",
              "      <th></th>\n",
              "      <th></th>\n",
              "      <th></th>\n",
              "      <th></th>\n",
              "      <th></th>\n",
              "      <th></th>\n",
              "      <th></th>\n",
              "      <th></th>\n",
              "      <th></th>\n",
              "    </tr>\n",
              "  </thead>\n",
              "  <tbody>\n",
              "    <tr>\n",
              "      <th>Asian or Asian British</th>\n",
              "      <td>1333.0</td>\n",
              "      <td>3206.0</td>\n",
              "      <td>1241.0</td>\n",
              "      <td>7214.0</td>\n",
              "      <td>481.0</td>\n",
              "      <td>1983.0</td>\n",
              "      <td>295.0</td>\n",
              "      <td>1735.0</td>\n",
              "      <td>3821.0</td>\n",
              "      <td>12297.0</td>\n",
              "      <td>1765.0</td>\n",
              "      <td>3616.0</td>\n",
              "      <td>10508.0</td>\n",
              "      <td>4767.0</td>\n",
              "      <td>26430.0</td>\n",
              "      <td>1406.0</td>\n",
              "      <td>4257.0</td>\n",
              "      <td>12222.0</td>\n",
              "      <td>32492.0</td>\n",
              "    </tr>\n",
              "    <tr>\n",
              "      <th>Black or Black British</th>\n",
              "      <td>2488.0</td>\n",
              "      <td>8460.0</td>\n",
              "      <td>1767.0</td>\n",
              "      <td>8815.0</td>\n",
              "      <td>1653.0</td>\n",
              "      <td>3449.0</td>\n",
              "      <td>1154.0</td>\n",
              "      <td>2444.0</td>\n",
              "      <td>7932.0</td>\n",
              "      <td>18708.0</td>\n",
              "      <td>6466.0</td>\n",
              "      <td>7395.0</td>\n",
              "      <td>24804.0</td>\n",
              "      <td>6724.0</td>\n",
              "      <td>37884.0</td>\n",
              "      <td>5233.0</td>\n",
              "      <td>6198.0</td>\n",
              "      <td>21227.0</td>\n",
              "      <td>52387.0</td>\n",
              "    </tr>\n",
              "    <tr>\n",
              "      <th>Chinese/Other</th>\n",
              "      <td>386.0</td>\n",
              "      <td>822.0</td>\n",
              "      <td>322.0</td>\n",
              "      <td>1854.0</td>\n",
              "      <td>180.0</td>\n",
              "      <td>592.0</td>\n",
              "      <td>112.0</td>\n",
              "      <td>488.0</td>\n",
              "      <td>1295.0</td>\n",
              "      <td>3104.0</td>\n",
              "      <td>802.0</td>\n",
              "      <td>1200.0</td>\n",
              "      <td>2698.0</td>\n",
              "      <td>1452.0</td>\n",
              "      <td>7486.0</td>\n",
              "      <td>437.0</td>\n",
              "      <td>1121.0</td>\n",
              "      <td>4361.0</td>\n",
              "      <td>7871.0</td>\n",
              "    </tr>\n",
              "    <tr>\n",
              "      <th>Mixed</th>\n",
              "      <td>580.0</td>\n",
              "      <td>1479.0</td>\n",
              "      <td>189.0</td>\n",
              "      <td>1670.0</td>\n",
              "      <td>255.0</td>\n",
              "      <td>682.0</td>\n",
              "      <td>200.0</td>\n",
              "      <td>377.0</td>\n",
              "      <td>1957.0</td>\n",
              "      <td>3680.0</td>\n",
              "      <td>1813.0</td>\n",
              "      <td>1693.0</td>\n",
              "      <td>4472.0</td>\n",
              "      <td>807.0</td>\n",
              "      <td>6565.0</td>\n",
              "      <td>893.0</td>\n",
              "      <td>842.0</td>\n",
              "      <td>4585.0</td>\n",
              "      <td>8952.0</td>\n",
              "    </tr>\n",
              "    <tr>\n",
              "      <th>Not stated</th>\n",
              "      <td>624.0</td>\n",
              "      <td>575.0</td>\n",
              "      <td>138.0</td>\n",
              "      <td>1485.0</td>\n",
              "      <td>216.0</td>\n",
              "      <td>830.0</td>\n",
              "      <td>107.0</td>\n",
              "      <td>314.0</td>\n",
              "      <td>1248.0</td>\n",
              "      <td>2645.0</td>\n",
              "      <td>930.0</td>\n",
              "      <td>1728.0</td>\n",
              "      <td>1607.0</td>\n",
              "      <td>506.0</td>\n",
              "      <td>7690.0</td>\n",
              "      <td>374.0</td>\n",
              "      <td>646.0</td>\n",
              "      <td>3795.0</td>\n",
              "      <td>6484.0</td>\n",
              "    </tr>\n",
              "    <tr>\n",
              "      <th>White</th>\n",
              "      <td>6957.0</td>\n",
              "      <td>9505.0</td>\n",
              "      <td>2192.0</td>\n",
              "      <td>18400.0</td>\n",
              "      <td>1869.0</td>\n",
              "      <td>8234.0</td>\n",
              "      <td>1047.0</td>\n",
              "      <td>4587.0</td>\n",
              "      <td>21227.0</td>\n",
              "      <td>36743.0</td>\n",
              "      <td>18512.0</td>\n",
              "      <td>21768.0</td>\n",
              "      <td>34388.0</td>\n",
              "      <td>8878.0</td>\n",
              "      <td>88174.0</td>\n",
              "      <td>4368.0</td>\n",
              "      <td>11187.0</td>\n",
              "      <td>63238.0</td>\n",
              "      <td>102464.0</td>\n",
              "    </tr>\n",
              "  </tbody>\n",
              "</table>\n",
              "</div>"
            ],
            "text/plain": [
              "                                                                       Arrests  ...                            \n",
              "Reason for arrest \n",
              "(offence group) 2015/16 onwards - Criminal damage and arson  ... Violence against the person\n",
              "Ethnic Group (self-defined)                                                     ...                            \n",
              "Asian or Asian British                                                  1333.0  ...                     32492.0\n",
              "Black or Black British                                                  2488.0  ...                     52387.0\n",
              "Chinese/Other                                                            386.0  ...                      7871.0\n",
              "Mixed                                                                    580.0  ...                      8952.0\n",
              "Not stated                                                               624.0  ...                      6484.0\n",
              "White                                                                   6957.0  ...                    102464.0\n",
              "\n",
              "[6 rows x 19 columns]"
            ]
          },
          "metadata": {
            "tags": []
          },
          "execution_count": 127
        }
      ]
    },
    {
      "cell_type": "code",
      "metadata": {
        "colab": {
          "base_uri": "https://localhost:8080/",
          "height": 487
        },
        "id": "VR06otDuqNYb",
        "outputId": "c69ae5ef-2d96-49f6-ed8d-de8a58644925"
      },
      "source": [
        "crime_data1_reason_of_arrest_female = crime_data1_2011_2017_female.groupby(['Ethnic Group (self-defined)','Reason for arrest \\n(offence group)']).agg({'Arrests':'sum'}).unstack()\n",
        "crime_data1_reason_of_arrest_female"
      ],
      "execution_count": 110,
      "outputs": [
        {
          "output_type": "execute_result",
          "data": {
            "text/html": [
              "<div>\n",
              "<style scoped>\n",
              "    .dataframe tbody tr th:only-of-type {\n",
              "        vertical-align: middle;\n",
              "    }\n",
              "\n",
              "    .dataframe tbody tr th {\n",
              "        vertical-align: top;\n",
              "    }\n",
              "\n",
              "    .dataframe thead tr th {\n",
              "        text-align: left;\n",
              "    }\n",
              "\n",
              "    .dataframe thead tr:last-of-type th {\n",
              "        text-align: right;\n",
              "    }\n",
              "</style>\n",
              "<table border=\"1\" class=\"dataframe\">\n",
              "  <thead>\n",
              "    <tr>\n",
              "      <th></th>\n",
              "      <th colspan=\"19\" halign=\"left\">Arrests</th>\n",
              "    </tr>\n",
              "    <tr>\n",
              "      <th>Reason for arrest \n",
              "(offence group)</th>\n",
              "      <th>2015/16 onwards - Criminal damage and arson</th>\n",
              "      <th>2015/16 onwards - Drug offences</th>\n",
              "      <th>2015/16 onwards - Fraud offences</th>\n",
              "      <th>2015/16 onwards - Misc crimes against society</th>\n",
              "      <th>2015/16 onwards - Possession of weapons offences</th>\n",
              "      <th>2015/16 onwards - Public order offences</th>\n",
              "      <th>2015/16 onwards - Robbery</th>\n",
              "      <th>2015/16 onwards - Sexual offences</th>\n",
              "      <th>2015/16 onwards - Theft offences</th>\n",
              "      <th>2015/16 onwards - Violence against the person</th>\n",
              "      <th>Burglary</th>\n",
              "      <th>Criminal damage</th>\n",
              "      <th>Drug offences</th>\n",
              "      <th>Fraud and forgery</th>\n",
              "      <th>Other offences</th>\n",
              "      <th>Robbery</th>\n",
              "      <th>Sexual offences</th>\n",
              "      <th>Theft and handling stolen goods</th>\n",
              "      <th>Violence against the person</th>\n",
              "    </tr>\n",
              "    <tr>\n",
              "      <th>Ethnic Group (self-defined)</th>\n",
              "      <th></th>\n",
              "      <th></th>\n",
              "      <th></th>\n",
              "      <th></th>\n",
              "      <th></th>\n",
              "      <th></th>\n",
              "      <th></th>\n",
              "      <th></th>\n",
              "      <th></th>\n",
              "      <th></th>\n",
              "      <th></th>\n",
              "      <th></th>\n",
              "      <th></th>\n",
              "      <th></th>\n",
              "      <th></th>\n",
              "      <th></th>\n",
              "      <th></th>\n",
              "      <th></th>\n",
              "      <th></th>\n",
              "    </tr>\n",
              "  </thead>\n",
              "  <tbody>\n",
              "    <tr>\n",
              "      <th>Asian or Asian British</th>\n",
              "      <td>130.0</td>\n",
              "      <td>123.0</td>\n",
              "      <td>217.0</td>\n",
              "      <td>548.0</td>\n",
              "      <td>28.0</td>\n",
              "      <td>188.0</td>\n",
              "      <td>8.0</td>\n",
              "      <td>15.0</td>\n",
              "      <td>544.0</td>\n",
              "      <td>1558.0</td>\n",
              "      <td>108.0</td>\n",
              "      <td>309.0</td>\n",
              "      <td>389.0</td>\n",
              "      <td>840.0</td>\n",
              "      <td>2334.0</td>\n",
              "      <td>41.0</td>\n",
              "      <td>33.0</td>\n",
              "      <td>2323.0</td>\n",
              "      <td>3631.0</td>\n",
              "    </tr>\n",
              "    <tr>\n",
              "      <th>Black or Black British</th>\n",
              "      <td>513.0</td>\n",
              "      <td>476.0</td>\n",
              "      <td>516.0</td>\n",
              "      <td>1478.0</td>\n",
              "      <td>101.0</td>\n",
              "      <td>602.0</td>\n",
              "      <td>81.0</td>\n",
              "      <td>61.0</td>\n",
              "      <td>1577.0</td>\n",
              "      <td>3540.0</td>\n",
              "      <td>397.0</td>\n",
              "      <td>1416.0</td>\n",
              "      <td>1435.0</td>\n",
              "      <td>2234.0</td>\n",
              "      <td>7009.0</td>\n",
              "      <td>268.0</td>\n",
              "      <td>150.0</td>\n",
              "      <td>5671.0</td>\n",
              "      <td>9910.0</td>\n",
              "    </tr>\n",
              "    <tr>\n",
              "      <th>Chinese/Other</th>\n",
              "      <td>85.0</td>\n",
              "      <td>86.0</td>\n",
              "      <td>86.0</td>\n",
              "      <td>343.0</td>\n",
              "      <td>14.0</td>\n",
              "      <td>73.0</td>\n",
              "      <td>6.0</td>\n",
              "      <td>15.0</td>\n",
              "      <td>314.0</td>\n",
              "      <td>543.0</td>\n",
              "      <td>72.0</td>\n",
              "      <td>190.0</td>\n",
              "      <td>253.0</td>\n",
              "      <td>448.0</td>\n",
              "      <td>1283.0</td>\n",
              "      <td>32.0</td>\n",
              "      <td>39.0</td>\n",
              "      <td>1412.0</td>\n",
              "      <td>1325.0</td>\n",
              "    </tr>\n",
              "    <tr>\n",
              "      <th>Mixed</th>\n",
              "      <td>143.0</td>\n",
              "      <td>206.0</td>\n",
              "      <td>85.0</td>\n",
              "      <td>362.0</td>\n",
              "      <td>23.0</td>\n",
              "      <td>178.0</td>\n",
              "      <td>31.0</td>\n",
              "      <td>10.0</td>\n",
              "      <td>480.0</td>\n",
              "      <td>944.0</td>\n",
              "      <td>219.0</td>\n",
              "      <td>398.0</td>\n",
              "      <td>583.0</td>\n",
              "      <td>323.0</td>\n",
              "      <td>1683.0</td>\n",
              "      <td>109.0</td>\n",
              "      <td>48.0</td>\n",
              "      <td>1403.0</td>\n",
              "      <td>2234.0</td>\n",
              "    </tr>\n",
              "    <tr>\n",
              "      <th>Not stated</th>\n",
              "      <td>116.0</td>\n",
              "      <td>43.0</td>\n",
              "      <td>33.0</td>\n",
              "      <td>293.0</td>\n",
              "      <td>19.0</td>\n",
              "      <td>129.0</td>\n",
              "      <td>8.0</td>\n",
              "      <td>7.0</td>\n",
              "      <td>298.0</td>\n",
              "      <td>627.0</td>\n",
              "      <td>74.0</td>\n",
              "      <td>275.0</td>\n",
              "      <td>139.0</td>\n",
              "      <td>147.0</td>\n",
              "      <td>1333.0</td>\n",
              "      <td>34.0</td>\n",
              "      <td>29.0</td>\n",
              "      <td>1027.0</td>\n",
              "      <td>1396.0</td>\n",
              "    </tr>\n",
              "    <tr>\n",
              "      <th>White</th>\n",
              "      <td>1191.0</td>\n",
              "      <td>1473.0</td>\n",
              "      <td>619.0</td>\n",
              "      <td>3586.0</td>\n",
              "      <td>242.0</td>\n",
              "      <td>1432.0</td>\n",
              "      <td>143.0</td>\n",
              "      <td>133.0</td>\n",
              "      <td>5366.0</td>\n",
              "      <td>8287.0</td>\n",
              "      <td>1561.0</td>\n",
              "      <td>3224.0</td>\n",
              "      <td>4818.0</td>\n",
              "      <td>2682.0</td>\n",
              "      <td>16437.0</td>\n",
              "      <td>642.0</td>\n",
              "      <td>523.0</td>\n",
              "      <td>17959.0</td>\n",
              "      <td>21030.0</td>\n",
              "    </tr>\n",
              "  </tbody>\n",
              "</table>\n",
              "</div>"
            ],
            "text/plain": [
              "                                                                       Arrests  ...                            \n",
              "Reason for arrest \n",
              "(offence group) 2015/16 onwards - Criminal damage and arson  ... Violence against the person\n",
              "Ethnic Group (self-defined)                                                     ...                            \n",
              "Asian or Asian British                                                   130.0  ...                      3631.0\n",
              "Black or Black British                                                   513.0  ...                      9910.0\n",
              "Chinese/Other                                                             85.0  ...                      1325.0\n",
              "Mixed                                                                    143.0  ...                      2234.0\n",
              "Not stated                                                               116.0  ...                      1396.0\n",
              "White                                                                   1191.0  ...                     21030.0\n",
              "\n",
              "[6 rows x 19 columns]"
            ]
          },
          "metadata": {
            "tags": []
          },
          "execution_count": 110
        }
      ]
    },
    {
      "cell_type": "code",
      "metadata": {
        "colab": {
          "base_uri": "https://localhost:8080/",
          "height": 475
        },
        "id": "p_1Ni5N-qNQV",
        "outputId": "3945a00b-39d4-4da0-ccbf-3237dce26c25"
      },
      "source": [
        "fig, ax = plt.subplots(figsize=(15,7))\n",
        "crime_data1_reason_of_arrest_female.plot(ax=ax)\n",
        "plt.title(\"Reason for arrests by ethnic group for females\")"
      ],
      "execution_count": 112,
      "outputs": [
        {
          "output_type": "execute_result",
          "data": {
            "text/plain": [
              "Text(0.5, 1.0, 'Reason for arrests by ethnic group for females')"
            ]
          },
          "metadata": {
            "tags": []
          },
          "execution_count": 112
        },
        {
          "output_type": "display_data",
          "data": {
            "image/png": "[encoded data removed]",
            "text/plain": [
              "<Figure size 1080x504 with 1 Axes>"
            ]
          },
          "metadata": {
            "tags": [],
            "needs_background": "light"
          }
        }
      ]
    },
    {
      "cell_type": "code",
      "metadata": {
        "colab": {
          "base_uri": "https://localhost:8080/",
          "height": 475
        },
        "id": "moQQS7DtqMkZ",
        "outputId": "6fcb74fd-389e-4411-bcf4-a182ade74d0f"
      },
      "source": [
        "fig, ax = plt.subplots(figsize=(15,7))\n",
        "crime_data1_reason_of_arrest_male.plot(ax=ax)\n",
        "plt.title(\"Reason for arrests by ethnic group for males\")"
      ],
      "execution_count": 113,
      "outputs": [
        {
          "output_type": "execute_result",
          "data": {
            "text/plain": [
              "Text(0.5, 1.0, 'Reason for arrests by ethnic group for males')"
            ]
          },
          "metadata": {
            "tags": []
          },
          "execution_count": 113
        },
        {
          "output_type": "display_data",
          "data": {
            "image/png": "[encoded data removed]",
            "text/plain": [
              "<Figure size 1080x504 with 1 Axes>"
            ]
          },
          "metadata": {
            "tags": [],
            "needs_background": "light"
          }
        }
      ]
    }
  ]
}